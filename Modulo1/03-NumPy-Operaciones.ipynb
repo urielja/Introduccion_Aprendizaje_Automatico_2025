{
 "cells": [
  {
   "cell_type": "markdown",
   "metadata": {},
   "source": [
    "\n",
    "<img style=\"float: left;;\" src='Figures/alinco.png' height=\"100\"/></a>\n",
    "\n",
    "# <center> <font color= #000047>  Operaciones con NumPy</font> </center>\n",
    "\n"
   ]
  },
  {
   "cell_type": "markdown",
   "metadata": {},
   "source": [
    "## Aritméticas\n",
    "\n",
    "Podemos realizar fácilmente aritmeticas como *arreglo con arreglo* , o *escalar con arreglo*. Veamos algunos ejemplos: "
   ]
  },
  {
   "cell_type": "code",
   "execution_count": 1,
   "metadata": {},
   "outputs": [],
   "source": [
    "import numpy as np\n",
    "\n",
    "l1 = [1,2,3,4]\n",
    "l2 = [13,5,3,4]"
   ]
  },
  {
   "cell_type": "code",
   "execution_count": null,
   "metadata": {},
   "outputs": [],
   "source": [
    "# Crear una matriz aleatoria de números enteros de dimensión 4x2 -> A\n",
    "# Crear una matriz aleatoria de números enteros de dimensión 2x6 -> B\n",
    "# Realizar la multiplicación de Matrices C = A*B\n",
    "# Realizar la multiplicación de Matrices C = B*A\n",
    "\n"
   ]
  },
  {
   "cell_type": "code",
   "execution_count": 2,
   "metadata": {},
   "outputs": [],
   "source": [
    "a1 = np.array(l1)\n",
    "a2 = np.array(l2)"
   ]
  },
  {
   "cell_type": "code",
   "execution_count": 3,
   "metadata": {},
   "outputs": [
    {
     "data": {
      "text/plain": [
       "array([14,  7,  6,  8])"
      ]
     },
     "execution_count": 3,
     "metadata": {},
     "output_type": "execute_result"
    }
   ],
   "source": [
    "a1 + a2"
   ]
  },
  {
   "cell_type": "code",
   "execution_count": 4,
   "metadata": {},
   "outputs": [
    {
     "data": {
      "text/plain": [
       "array([-12,  -3,   0,   0])"
      ]
     },
     "execution_count": 4,
     "metadata": {},
     "output_type": "execute_result"
    }
   ],
   "source": [
    "a1 - a2"
   ]
  },
  {
   "cell_type": "code",
   "execution_count": 5,
   "metadata": {},
   "outputs": [
    {
     "data": {
      "text/plain": [
       "array([1, 2, 3, 4])"
      ]
     },
     "execution_count": 5,
     "metadata": {},
     "output_type": "execute_result"
    }
   ],
   "source": [
    "a1.transpose()"
   ]
  },
  {
   "cell_type": "code",
   "execution_count": 6,
   "metadata": {},
   "outputs": [
    {
     "data": {
      "text/plain": [
       "np.int64(48)"
      ]
     },
     "execution_count": 6,
     "metadata": {},
     "output_type": "execute_result"
    }
   ],
   "source": [
    "a1@a2"
   ]
  },
  {
   "cell_type": "code",
   "execution_count": 9,
   "metadata": {},
   "outputs": [
    {
     "data": {
      "text/plain": [
       "array([[92, 26],\n",
       "       [ 2, 29],\n",
       "       [91, 15],\n",
       "       [32, 73]], dtype=int32)"
      ]
     },
     "execution_count": 9,
     "metadata": {},
     "output_type": "execute_result"
    }
   ],
   "source": [
    "A = np.random.randint(100, size=(4,2))\n",
    "A"
   ]
  },
  {
   "cell_type": "code",
   "execution_count": 15,
   "metadata": {},
   "outputs": [],
   "source": [
    "B = np.random.randint(100, size=(2,6))"
   ]
  },
  {
   "cell_type": "code",
   "execution_count": 16,
   "metadata": {},
   "outputs": [
    {
     "data": {
      "text/plain": [
       "(4, 2)"
      ]
     },
     "execution_count": 16,
     "metadata": {},
     "output_type": "execute_result"
    }
   ],
   "source": [
    "A.shape"
   ]
  },
  {
   "cell_type": "code",
   "execution_count": 17,
   "metadata": {},
   "outputs": [
    {
     "data": {
      "text/plain": [
       "(2, 6)"
      ]
     },
     "execution_count": 17,
     "metadata": {},
     "output_type": "execute_result"
    }
   ],
   "source": [
    "B.shape"
   ]
  },
  {
   "cell_type": "code",
   "execution_count": 18,
   "metadata": {},
   "outputs": [
    {
     "data": {
      "text/plain": [
       "array([[1616, 6860, 8420, 3522, 9568, 1274],\n",
       "       [1400, 2822, 1946, 1413, 1516, 1421],\n",
       "       [1084, 5778, 7664, 2980, 8971,  735],\n",
       "       [3632, 8398, 6894, 4231, 6270, 3577]], dtype=int32)"
      ]
     },
     "execution_count": 18,
     "metadata": {},
     "output_type": "execute_result"
    }
   ],
   "source": [
    "A@B"
   ]
  },
  {
   "cell_type": "code",
   "execution_count": 19,
   "metadata": {},
   "outputs": [
    {
     "data": {
      "text/plain": [
       "array([[1616, 6860, 8420, 3522, 9568, 1274],\n",
       "       [1400, 2822, 1946, 1413, 1516, 1421],\n",
       "       [1084, 5778, 7664, 2980, 8971,  735],\n",
       "       [3632, 8398, 6894, 4231, 6270, 3577]], dtype=int32)"
      ]
     },
     "execution_count": 19,
     "metadata": {},
     "output_type": "execute_result"
    }
   ],
   "source": [
    "np.dot(A,B)"
   ]
  },
  {
   "cell_type": "code",
   "execution_count": 20,
   "metadata": {},
   "outputs": [
    {
     "ename": "ValueError",
     "evalue": "shapes (2,6) and (4,2) not aligned: 6 (dim 1) != 4 (dim 0)",
     "output_type": "error",
     "traceback": [
      "\u001b[31m---------------------------------------------------------------------------\u001b[39m",
      "\u001b[31mValueError\u001b[39m                                Traceback (most recent call last)",
      "\u001b[36mCell\u001b[39m\u001b[36m \u001b[39m\u001b[32mIn[20]\u001b[39m\u001b[32m, line 1\u001b[39m\n\u001b[32m----> \u001b[39m\u001b[32m1\u001b[39m \u001b[43mnp\u001b[49m\u001b[43m.\u001b[49m\u001b[43mdot\u001b[49m\u001b[43m(\u001b[49m\u001b[43mB\u001b[49m\u001b[43m,\u001b[49m\u001b[43mA\u001b[49m\u001b[43m)\u001b[49m\n",
      "\u001b[31mValueError\u001b[39m: shapes (2,6) and (4,2) not aligned: 6 (dim 1) != 4 (dim 0)"
     ]
    }
   ],
   "source": [
    "np.dot(B,A)"
   ]
  },
  {
   "cell_type": "markdown",
   "metadata": {},
   "source": [
    "## Funciones universales en los Arreglos\n",
    "\n",
    "NumPy viene con muchass [funciones universales en los arreglos](http://docs.scipy.org/doc/numpy/reference/ufuncs.html), or <em>ufuncs</em>, que son esencialmente operaciones matemáticas que se pueden aplicar al arreglo.<br>Veamos algunas funciones más comunes:"
   ]
  },
  {
   "cell_type": "code",
   "execution_count": 21,
   "metadata": {},
   "outputs": [
    {
     "data": {
      "text/plain": [
       "array([1.        , 1.41421356, 1.73205081, 2.        ])"
      ]
     },
     "execution_count": 21,
     "metadata": {},
     "output_type": "execute_result"
    }
   ],
   "source": [
    "np.sqrt(a1)"
   ]
  },
  {
   "cell_type": "code",
   "execution_count": null,
   "metadata": {},
   "outputs": [],
   "source": []
  },
  {
   "cell_type": "code",
   "execution_count": null,
   "metadata": {},
   "outputs": [],
   "source": []
  },
  {
   "cell_type": "code",
   "execution_count": null,
   "metadata": {
    "scrolled": true
   },
   "outputs": [],
   "source": []
  },
  {
   "cell_type": "code",
   "execution_count": null,
   "metadata": {},
   "outputs": [],
   "source": []
  },
  {
   "cell_type": "markdown",
   "metadata": {},
   "source": [
    "## Resumen de Estadística sobre Arreglos\n",
    "\n",
    "NumPy también ofrece métodos estadísticos como <em> sum </em>, <em> mean </em> y <em> max </em>. "
   ]
  },
  {
   "cell_type": "code",
   "execution_count": 22,
   "metadata": {},
   "outputs": [
    {
     "data": {
      "text/plain": [
       "np.int64(10)"
      ]
     },
     "execution_count": 22,
     "metadata": {},
     "output_type": "execute_result"
    }
   ],
   "source": [
    "a1.sum()"
   ]
  },
  {
   "cell_type": "code",
   "execution_count": 23,
   "metadata": {},
   "outputs": [
    {
     "data": {
      "text/plain": [
       "np.float64(1.118033988749895)"
      ]
     },
     "execution_count": 23,
     "metadata": {},
     "output_type": "execute_result"
    }
   ],
   "source": [
    "a1.std()"
   ]
  },
  {
   "cell_type": "code",
   "execution_count": 24,
   "metadata": {},
   "outputs": [
    {
     "data": {
      "text/plain": [
       "np.float64(1.25)"
      ]
     },
     "execution_count": 24,
     "metadata": {},
     "output_type": "execute_result"
    }
   ],
   "source": [
    "a1.var()"
   ]
  },
  {
   "cell_type": "code",
   "execution_count": null,
   "metadata": {},
   "outputs": [],
   "source": []
  },
  {
   "cell_type": "code",
   "execution_count": null,
   "metadata": {},
   "outputs": [],
   "source": []
  },
  {
   "cell_type": "markdown",
   "metadata": {},
   "source": [
    "## Lógica para el eje (axis)\n",
    "\n",
    "Cuando trabajamos con arreglos bidimensionales, debemos considerar filas y columnas. En términos de un arreglo, el eje 0 (cero) es el eje horizontal (filas) y el eje 1 es el eje vertical (columnas). Los valores (0,1) corresponden al orden en el que método <tt> arr.shape </tt> da como salida.\n",
    "\n",
    "Veamos cómo afecta esto a nuestros cálculos estadísticos resumidos de arriba.\n"
   ]
  },
  {
   "cell_type": "code",
   "execution_count": 25,
   "metadata": {},
   "outputs": [
    {
     "data": {
      "text/plain": [
       "(4, 2)"
      ]
     },
     "execution_count": 25,
     "metadata": {},
     "output_type": "execute_result"
    }
   ],
   "source": [
    "A.shape"
   ]
  },
  {
   "cell_type": "markdown",
   "metadata": {},
   "source": [
    "Dando como entrada <tt>axis=0</tt>, estamos devolviendo la suma del arreglo a lo largo del eje vertical, esencialmente <tt>[(1+5+9), (2+6+10), (3+7+11), (4+8+12)]</tt>\n",
    "\n",
    "<img src='Figures/axis_logic.png' width=400/>"
   ]
  },
  {
   "cell_type": "code",
   "execution_count": 26,
   "metadata": {},
   "outputs": [
    {
     "data": {
      "text/plain": [
       "array([217, 143])"
      ]
     },
     "execution_count": 26,
     "metadata": {},
     "output_type": "execute_result"
    }
   ],
   "source": [
    "A.sum(axis=0)"
   ]
  },
  {
   "cell_type": "code",
   "execution_count": 27,
   "metadata": {},
   "outputs": [
    {
     "data": {
      "text/plain": [
       "array([118,  31, 106, 105])"
      ]
     },
     "execution_count": 27,
     "metadata": {},
     "output_type": "execute_result"
    }
   ],
   "source": [
    "A.sum(axis=1)"
   ]
  },
  {
   "cell_type": "code",
   "execution_count": null,
   "metadata": {},
   "outputs": [],
   "source": []
  },
  {
   "cell_type": "markdown",
   "metadata": {},
   "source": [
    "Esto nos dice que <tt>arr_2d</tt> tiene 3 filas y 4 columnas.\n",
    "\n",
    "En <tt>arr_2d.sum(axis=0)</tt>, se sumó el primer elemento de cada fila, luego el segundo elemento y así sucesivamente.\n",
    "\n",
    "Entonces, ¿qué debería <tt>arr_2d.sum(axis=1)</tt> regresar?"
   ]
  },
  {
   "cell_type": "markdown",
   "metadata": {},
   "source": [
    "## Ejercicio 1"
   ]
  },
  {
   "cell_type": "markdown",
   "metadata": {},
   "source": [
    "\n",
    "### Numpy\n",
    "\n",
    "1. Crear un vector con valores de 10 a 49.\n",
    "2. Elevar al cuadrado a aquellos números divisibles por 3.\n",
    "3. Redimensionar ese vector en una matriz de 20x2.\n",
    "4. Crear una nueva matriz de 2x10 y multiplicarla a la matriz anterior.\n",
    "5. Obtener la transpuesta de la matriz resultante."
   ]
  },
  {
   "cell_type": "code",
   "execution_count": null,
   "metadata": {},
   "outputs": [],
   "source": [
    "#1.- Crear un vector con valores de 10 a 49"
   ]
  },
  {
   "cell_type": "code",
   "execution_count": 29,
   "metadata": {},
   "outputs": [
    {
     "data": {
      "text/plain": [
       "array([10, 11, 12, 13, 14, 15, 16, 17, 18, 19, 20, 21, 22, 23, 24, 25, 26,\n",
       "       27, 28, 29, 30, 31, 32, 33, 34, 35, 36, 37, 38, 39, 40, 41, 42, 43,\n",
       "       44, 45, 46, 47, 48, 49])"
      ]
     },
     "execution_count": 29,
     "metadata": {},
     "output_type": "execute_result"
    }
   ],
   "source": [
    "a = np.arange(10,50)\n",
    "a"
   ]
  },
  {
   "cell_type": "code",
   "execution_count": 30,
   "metadata": {},
   "outputs": [
    {
     "name": "stdout",
     "output_type": "stream",
     "text": [
      "144\n",
      "225\n",
      "324\n",
      "441\n",
      "576\n",
      "729\n",
      "900\n",
      "1089\n",
      "1296\n",
      "1521\n",
      "1764\n",
      "2025\n",
      "2304\n"
     ]
    }
   ],
   "source": [
    "#2.-Elevar al cuadrado a aquellos numeros divisibles por 3\n",
    "for i in range (len(a)):\n",
    "    if a[i]%3==0:\n",
    "        print(a[i]**2)"
   ]
  },
  {
   "cell_type": "code",
   "execution_count": 32,
   "metadata": {},
   "outputs": [
    {
     "data": {
      "text/plain": [
       "(40,)"
      ]
     },
     "execution_count": 32,
     "metadata": {},
     "output_type": "execute_result"
    }
   ],
   "source": [
    "#3.-Redimensionar ese vector en una matriz de 20x2\n",
    "a2 = np.arange(40)\n",
    "a2.shape"
   ]
  },
  {
   "cell_type": "code",
   "execution_count": 45,
   "metadata": {},
   "outputs": [
    {
     "data": {
      "text/plain": [
       "array([[ 0,  1],\n",
       "       [ 2,  3],\n",
       "       [ 4,  5],\n",
       "       [ 6,  7],\n",
       "       [ 8,  9],\n",
       "       [10, 11],\n",
       "       [12, 13],\n",
       "       [14, 15],\n",
       "       [16, 17],\n",
       "       [18, 19],\n",
       "       [20, 21],\n",
       "       [22, 23],\n",
       "       [24, 25],\n",
       "       [26, 27],\n",
       "       [28, 29],\n",
       "       [30, 31],\n",
       "       [32, 33],\n",
       "       [34, 35],\n",
       "       [36, 37],\n",
       "       [38, 39]])"
      ]
     },
     "execution_count": 45,
     "metadata": {},
     "output_type": "execute_result"
    }
   ],
   "source": [
    "a2.reshape(20,2)"
   ]
  },
  {
   "cell_type": "code",
   "execution_count": 44,
   "metadata": {},
   "outputs": [
    {
     "data": {
      "text/plain": [
       "array([[93, 51],\n",
       "       [13, 34],\n",
       "       [81,  1],\n",
       "       [79, 33],\n",
       "       [ 1,  3],\n",
       "       [36, 85],\n",
       "       [33, 61],\n",
       "       [ 4,  4],\n",
       "       [72, 33],\n",
       "       [55, 43],\n",
       "       [36, 90],\n",
       "       [11,  4],\n",
       "       [34, 19],\n",
       "       [69, 87],\n",
       "       [ 8, 95],\n",
       "       [24, 74],\n",
       "       [82, 37],\n",
       "       [99, 72],\n",
       "       [52, 84],\n",
       "       [ 8, 24]], dtype=int32)"
      ]
     },
     "execution_count": 44,
     "metadata": {},
     "output_type": "execute_result"
    }
   ],
   "source": [
    "#4. Crear una nueva matriz de 2x10 y multiplicarla a la matriz anterior.\n",
    "mat2 = np.random.randint(100, size=(20,2))\n",
    "mat2"
   ]
  },
  {
   "cell_type": "code",
   "execution_count": 46,
   "metadata": {},
   "outputs": [
    {
     "ename": "ValueError",
     "evalue": "matmul: Input operand 1 has a mismatch in its core dimension 0, with gufunc signature (n?,k),(k,m?)->(n?,m?) (size 40 is different from 2)",
     "output_type": "error",
     "traceback": [
      "\u001b[31m---------------------------------------------------------------------------\u001b[39m",
      "\u001b[31mValueError\u001b[39m                                Traceback (most recent call last)",
      "\u001b[36mCell\u001b[39m\u001b[36m \u001b[39m\u001b[32mIn[46]\u001b[39m\u001b[32m, line 1\u001b[39m\n\u001b[32m----> \u001b[39m\u001b[32m1\u001b[39m \u001b[43mmat2\u001b[49m\u001b[38;5;129;43m@a2\u001b[39;49m\n",
      "\u001b[31mValueError\u001b[39m: matmul: Input operand 1 has a mismatch in its core dimension 0, with gufunc signature (n?,k),(k,m?)->(n?,m?) (size 40 is different from 2)"
     ]
    }
   ],
   "source": [
    "mat2@a2"
   ]
  },
  {
   "cell_type": "code",
   "execution_count": 47,
   "metadata": {},
   "outputs": [
    {
     "data": {
      "text/plain": [
       "array([[93, 13, 81, 79,  1, 36, 33,  4, 72, 55, 36, 11, 34, 69,  8, 24,\n",
       "        82, 99, 52,  8],\n",
       "       [51, 34,  1, 33,  3, 85, 61,  4, 33, 43, 90,  4, 19, 87, 95, 74,\n",
       "        37, 72, 84, 24]], dtype=int32)"
      ]
     },
     "execution_count": 47,
     "metadata": {},
     "output_type": "execute_result"
    }
   ],
   "source": [
    "mat2.transpose()"
   ]
  },
  {
   "cell_type": "markdown",
   "metadata": {},
   "source": [
    "## Ejercicio 2"
   ]
  },
  {
   "cell_type": "markdown",
   "metadata": {},
   "source": [
    "Se desea calcular el índice de masa corporal (IMC) de jugadores de un equipo de futbol. Los datos proporcionados corresponden a las listas de los nombres, altura y peso, tal como se muestra a continuación"
   ]
  },
  {
   "cell_type": "code",
   "execution_count": 50,
   "metadata": {},
   "outputs": [],
   "source": [
    "nombre= ['Bonifacio de Cifuentes',\n",
    "'Ángel Machado Lara',\n",
    "'Geraldo de Atienza',\n",
    "'Onofre Posada Grande',\n",
    "'Samu Cantón-Figuerola',\n",
    "'Camilo Pol',\n",
    "'Toni Galvez Lara',\n",
    "'Lucho Manzano Rivas',\n",
    "'Abraham Aroca',\n",
    "'Anselmo Bartolomé Folch',\n",
    "'Toni Inocencio Rozas Porras',\n",
    "'Fausto Cortés-Arco',\n",
    "'Baltasar Carreño Isern']\n",
    "\n",
    "altura = [180, 215, 210, 210, 188, 176, 209, 200, 210, 188, 176, 209, 200]\n",
    "peso = [69, 74, 72, 75, 68, 70, 71, 73, 69, 74, 72, 75, 68, 70, 71, 73]"
   ]
  },
  {
   "cell_type": "markdown",
   "metadata": {},
   "source": [
    "El valor de IMC por cada jugador resulta de aplicar la fórmula:\n",
    "\n",
    "$$IMC = \\frac{peso(kg)}{altura(m)^2}$$\n",
    "\n",
    "**Nota:** Los valores de altura están dados en centímetros por lo que deberá hacer laconversión a metros previo a la aplicación de la fórmula. Adicionalmente, una vez obtenido el IMC se solicita:\n",
    "\n",
    "> a) Presentar el icm para cada jugador.\n",
    "\n",
    "> b) Indicar en qué índice se encuentra el icm más alto y a qué jugador le pertenece.\n",
    "\n",
    "> c) Calcular el promedio de los icm resultantes.\n",
    "\n",
    "> d) Muestre los nombres de los jugadores en orden de su imc, desde el que tiene menorimc al que tiene mayor imc."
   ]
  },
  {
   "cell_type": "code",
   "execution_count": null,
   "metadata": {},
   "outputs": [],
   "source": []
  },
  {
   "cell_type": "code",
   "execution_count": null,
   "metadata": {},
   "outputs": [],
   "source": []
  },
  {
   "cell_type": "code",
   "execution_count": null,
   "metadata": {},
   "outputs": [],
   "source": []
  }
 ],
 "metadata": {
  "kernelspec": {
   "display_name": "Python 3 (ipykernel)",
   "language": "python",
   "name": "python3"
  },
  "language_info": {
   "codemirror_mode": {
    "name": "ipython",
    "version": 3
   },
   "file_extension": ".py",
   "mimetype": "text/x-python",
   "name": "python",
   "nbconvert_exporter": "python",
   "pygments_lexer": "ipython3",
   "version": "3.13.3"
  }
 },
 "nbformat": 4,
 "nbformat_minor": 4
}
