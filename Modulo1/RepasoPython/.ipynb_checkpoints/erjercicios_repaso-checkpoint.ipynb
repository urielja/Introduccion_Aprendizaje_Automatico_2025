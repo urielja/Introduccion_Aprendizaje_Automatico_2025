{
 "cells": [
  {
   "cell_type": "markdown",
   "id": "537ee92d-c367-4929-a4e5-4811a62cdd72",
   "metadata": {},
   "source": [
    "<img style=\"float: left;;\" src='Figures/alinco.png' height=\"100\"/></a>\n",
    "\n",
    "# <center> <font color= #000047> Ejercicios Repaso</font> </center>\n",
    "\n"
   ]
  },
  {
   "cell_type": "markdown",
   "id": "2fa0fb58-c885-44ab-8ef5-47ecc49bc554",
   "metadata": {},
   "source": [
    "1.- Imprime los números del 1 al 10 usando un ciclo.\n",
    "\n",
    "2.- Calcula la suma de todos los números pares entre 1 y 100.\n",
    "\n",
    "3.- Pide al usuario un número y determina si es par o impar.\n",
    "\n",
    "4.- Crea una función que reciba una lista y devuelva la lista invertida.\n",
    "\n",
    "5.- Escribe un programa que calcule el factorial de un número dado por el usuario.\n",
    "\n",
    "6.- Crea una lista con los cuadrados de los números del 1 al 20.\n",
    "\n",
    "7.- Escribe una función que cuente cuántas veces aparece un elemento en una lista.\n",
    "\n",
    "8.- Pide al usuario una palabra y determina si es un palíndromo.\n",
    "\n",
    "9.- Escribe un programa que imprima la tabla de multiplicar de un número dado.\n",
    "\n",
    "10.- Crea un diccionario con nombres de personas y sus edades, luego imprime solo los nombres de las personas mayores de 18 años."
   ]
  },
  {
   "cell_type": "code",
   "execution_count": null,
   "id": "a1ee5c52-824d-4e8e-9e35-d8785a02b8b6",
   "metadata": {},
   "outputs": [],
   "source": []
  }
 ],
 "metadata": {
  "kernelspec": {
   "display_name": "Python 3 (ipykernel)",
   "language": "python",
   "name": "python3"
  },
  "language_info": {
   "codemirror_mode": {
    "name": "ipython",
    "version": 3
   },
   "file_extension": ".py",
   "mimetype": "text/x-python",
   "name": "python",
   "nbconvert_exporter": "python",
   "pygments_lexer": "ipython3",
   "version": "3.12.7"
  }
 },
 "nbformat": 4,
 "nbformat_minor": 5
}
