{
 "cells": [
  {
   "cell_type": "markdown",
   "id": "537ee92d-c367-4929-a4e5-4811a62cdd72",
   "metadata": {},
   "source": [
    "<img style=\"float: left;;\" src='Figures/alinco.png' height=\"100\"/></a>\n",
    "\n",
    "# <center> <font color= #000047> Ejercicios Repaso</font> </center>\n",
    "\n"
   ]
  },
  {
   "cell_type": "markdown",
   "id": "2fa0fb58-c885-44ab-8ef5-47ecc49bc554",
   "metadata": {},
   "source": [
    "1.- Imprime los números del 1 al 10 usando un ciclo.\n",
    "\n",
    "2.- Calcula la suma de todos los números pares entre 1 y 100.\n",
    "\n",
    "3.- Pide al usuario un número y determina si es par o impar.\n",
    "\n",
    "4.- Crea una función que reciba una lista y devuelva la lista invertida.\n",
    "\n",
    "5.- Escribe un programa que calcule el factorial de un número dado por el usuario.\n",
    "\n",
    "6.- Crea una lista con los cuadrados de los números del 1 al 20.\n",
    "\n",
    "7.- Escribe una función que cuente cuántas veces aparece un elemento en una lista.\n",
    "\n",
    "8.- Pide al usuario una palabra y determina si es un palíndromo.\n",
    "\n",
    "9.- Escribe un programa que imprima la tabla de multiplicar de un número dado.\n",
    "\n",
    "10.- Crea un diccionario con nombres de personas y sus edades, luego imprime solo los nombres de las personas mayores de 18 años."
   ]
  },
  {
   "cell_type": "markdown",
   "id": "adddc827-8b78-4325-95ad-2ce0093df89a",
   "metadata": {},
   "source": [
    "### 1.- Imprime los numeros del 1 al 10 usando un ciclo"
   ]
  },
  {
   "cell_type": "code",
   "execution_count": 3,
   "id": "a1ee5c52-824d-4e8e-9e35-d8785a02b8b6",
   "metadata": {},
   "outputs": [
    {
     "name": "stdout",
     "output_type": "stream",
     "text": [
      "1\n",
      "2\n",
      "3\n",
      "4\n",
      "5\n",
      "6\n",
      "7\n",
      "8\n",
      "9\n",
      "10\n"
     ]
    }
   ],
   "source": [
    "for i in range(1,11):\n",
    "    print(i)"
   ]
  },
  {
   "cell_type": "markdown",
   "id": "0124a573-a049-45f6-bec9-7f2a024063c0",
   "metadata": {},
   "source": [
    "### 2.- Calcula la suma de todos los números pares entre 1 y 100."
   ]
  },
  {
   "cell_type": "code",
   "execution_count": 7,
   "id": "4667380d-0575-4762-b145-3823e7e86c2d",
   "metadata": {},
   "outputs": [
    {
     "name": "stdout",
     "output_type": "stream",
     "text": [
      "La suma es: 2550\n"
     ]
    }
   ],
   "source": [
    "suma = 0\n",
    "for i in range(2, 101, 2):  # empieza en 2, llega a 100, saltos de 2\n",
    "    suma += i\n",
    "\n",
    "print(\"La suma es:\", suma)"
   ]
  },
  {
   "cell_type": "markdown",
   "id": "b972ef2a-6668-46a2-b264-0d12571a44c4",
   "metadata": {},
   "source": [
    "### 3.- Pide al usuario un número y determina si es par o impar."
   ]
  },
  {
   "cell_type": "code",
   "execution_count": 9,
   "id": "2eca3717-383e-403a-bd07-dbf24169c051",
   "metadata": {},
   "outputs": [
    {
     "name": "stdin",
     "output_type": "stream",
     "text": [
      "Ingresa un número:  9\n"
     ]
    },
    {
     "name": "stdout",
     "output_type": "stream",
     "text": [
      "El número 9 es IMPAR.\n"
     ]
    }
   ],
   "source": [
    "# Pedir un número al usuario\n",
    "numero = int(input(\"Ingresa un número: \"))\n",
    "\n",
    "# Verificar si es par o impar\n",
    "if numero % 2 == 0:\n",
    "    print(f\"El número {numero} es PAR.\")\n",
    "else:\n",
    "    print(f\"El número {numero} es IMPAR.\")"
   ]
  },
  {
   "cell_type": "markdown",
   "id": "05cb72bf-a5d8-4e5b-a267-08e13da956bd",
   "metadata": {},
   "source": [
    "### 4.- Crea una función que reciba una lista y devuelva la lista invertida."
   ]
  },
  {
   "cell_type": "code",
   "execution_count": 11,
   "id": "9b28d76a-ab12-4ddc-8e16-f03c807481c4",
   "metadata": {},
   "outputs": [
    {
     "name": "stdout",
     "output_type": "stream",
     "text": [
      "[5, 4, 3, 2, 1]\n"
     ]
    }
   ],
   "source": [
    "def invertir_lista(lista):\n",
    "    return lista[::-1]\n",
    "\n",
    "\n",
    "mi_lista = [1, 2, 3, 4, 5]\n",
    "print(invertir_lista(mi_lista))  # [5, 4, 3, 2, 1]"
   ]
  },
  {
   "cell_type": "markdown",
   "id": "65e911d9-c22b-45f2-89e9-0d7bcef21350",
   "metadata": {},
   "source": [
    "### 5.- Escribe un programa que calcule el factorial de un número dado por el usuario."
   ]
  },
  {
   "cell_type": "code",
   "execution_count": 12,
   "id": "5560ff6a-1fe4-4871-93d7-5d7918d43712",
   "metadata": {},
   "outputs": [
    {
     "name": "stdin",
     "output_type": "stream",
     "text": [
      "Ingresa un número para calcular su factorial:  5\n"
     ]
    },
    {
     "name": "stdout",
     "output_type": "stream",
     "text": [
      "El factorial de 5 es: 120\n"
     ]
    }
   ],
   "source": [
    "# Pedir número al usuario\n",
    "n = int(input(\"Ingresa un número para calcular su factorial: \"))\n",
    "\n",
    "factorial = 1\n",
    "\n",
    "if n < 0:\n",
    "    print(\"El factorial no está definido para números negativos.\")\n",
    "else:\n",
    "    for i in range(1, n + 1):\n",
    "        factorial *= i\n",
    "    print(f\"El factorial de {n} es: {factorial}\")"
   ]
  },
  {
   "cell_type": "markdown",
   "id": "75b95db0-4ea3-4ba0-8394-0bef58801a15",
   "metadata": {},
   "source": [
    "### 6.- Crea una lista con los cuadrados de los números del 1 al 20."
   ]
  },
  {
   "cell_type": "code",
   "execution_count": 13,
   "id": "0d9dc611-d9ba-40cb-b21d-c7b5116d1440",
   "metadata": {},
   "outputs": [
    {
     "name": "stdout",
     "output_type": "stream",
     "text": [
      "[1, 4, 9, 16, 25, 36, 49, 64, 81, 100, 121, 144, 169, 196, 225, 256, 289, 324, 361, 400]\n"
     ]
    }
   ],
   "source": [
    "cuadrados = []\n",
    "for i in range(1, 21):\n",
    "    cuadrados.append(i ** 2)\n",
    "\n",
    "print(cuadrados)"
   ]
  },
  {
   "cell_type": "markdown",
   "id": "8559c0e7-497d-43af-901e-dca9d4318aee",
   "metadata": {},
   "source": [
    "### 7.- Escribe una función que cuente cuántas veces aparece un elemento en una lista."
   ]
  },
  {
   "cell_type": "code",
   "execution_count": 14,
   "id": "5c0c9da8-1b3a-4024-b4ed-9d44189b5670",
   "metadata": {},
   "outputs": [
    {
     "name": "stdout",
     "output_type": "stream",
     "text": [
      "3\n"
     ]
    }
   ],
   "source": [
    "def contar_elemento(lista, elemento):\n",
    "    return lista.count(elemento)\n",
    "\n",
    "mi_lista = [1, 2, 3, 2, 4, 2, 5]\n",
    "print(contar_elemento(mi_lista, 2))  "
   ]
  },
  {
   "cell_type": "markdown",
   "id": "1ce9bdf5-5ba3-4e03-aa81-299cf73a9113",
   "metadata": {},
   "source": [
    "### 8.- Pide al usuario una palabra y determina si es un palíndromo."
   ]
  },
  {
   "cell_type": "code",
   "execution_count": 16,
   "id": "555ddecd-aca1-491c-aeaf-56f55ece1a17",
   "metadata": {},
   "outputs": [
    {
     "name": "stdin",
     "output_type": "stream",
     "text": [
      "Ingresa una palabra:  peligroso\n"
     ]
    },
    {
     "name": "stdout",
     "output_type": "stream",
     "text": [
      "La palabra 'peligroso' NO es un palíndromo.\n"
     ]
    }
   ],
   "source": [
    "\n",
    "palabra = input(\"Ingresa una palabra: \")\n",
    "\n",
    "# Convertir a minúsculas\n",
    "palabra = palabra.lower()\n",
    "\n",
    "# Verificar si es palíndromo\n",
    "if palabra == palabra[::-1]:\n",
    "    print(f\"La palabra '{palabra}' ES un palíndromo.\")\n",
    "else:\n",
    "    print(f\"La palabra '{palabra}' NO es un palíndromo.\")"
   ]
  },
  {
   "cell_type": "markdown",
   "id": "3c255be2-ee86-4a6a-850f-8708d176016a",
   "metadata": {},
   "source": [
    "### 9.- Escribe un programa que imprima la tabla de multiplicar de un número dado."
   ]
  },
  {
   "cell_type": "code",
   "execution_count": 17,
   "id": "7c1a9513-16e0-4732-9596-28e551f8518f",
   "metadata": {},
   "outputs": [
    {
     "name": "stdin",
     "output_type": "stream",
     "text": [
      "Ingresa un número para mostrar su tabla de multiplicar:  5\n"
     ]
    },
    {
     "name": "stdout",
     "output_type": "stream",
     "text": [
      "\n",
      "Tabla de multiplicar del 5\n",
      "5 x 1 = 5\n",
      "5 x 2 = 10\n",
      "5 x 3 = 15\n",
      "5 x 4 = 20\n",
      "5 x 5 = 25\n",
      "5 x 6 = 30\n",
      "5 x 7 = 35\n",
      "5 x 8 = 40\n",
      "5 x 9 = 45\n",
      "5 x 10 = 50\n"
     ]
    }
   ],
   "source": [
    "numero = int(input(\"Ingresa un número para mostrar su tabla de multiplicar: \"))\n",
    "\n",
    "print(f\"\\nTabla de multiplicar del {numero}\")\n",
    "for i in range(1, 11):  # del 1 al 10\n",
    "    print(f\"{numero} x {i} = {numero * i}\")"
   ]
  },
  {
   "cell_type": "markdown",
   "id": "85f5a5bf-37b7-40d2-9a30-b0527d53b100",
   "metadata": {},
   "source": [
    "### 10.- Crea un diccionario con nombres de personas y sus edades, luego imprime solo los nombres de las personas mayores de 18 años."
   ]
  },
  {
   "cell_type": "code",
   "execution_count": 18,
   "id": "7bbacb12-a30d-4427-8da6-9d87ea6859b7",
   "metadata": {},
   "outputs": [
    {
     "name": "stdout",
     "output_type": "stream",
     "text": [
      "Personas mayores de 18 años:\n",
      "Luis\n",
      "Carlos\n",
      "Elena\n"
     ]
    }
   ],
   "source": [
    "# Crear un diccionario con nombres y edades\n",
    "personas = {\n",
    "    \"Ana\": 17,\n",
    "    \"Luis\": 20,\n",
    "    \"María\": 15,\n",
    "    \"Carlos\": 25,\n",
    "    \"Elena\": 30\n",
    "}\n",
    "\n",
    "print(\"Personas mayores de 18 años:\")\n",
    "\n",
    "# Recorrer el diccionario\n",
    "for nombre, edad in personas.items():\n",
    "    if edad > 18:\n",
    "        print(nombre)"
   ]
  },
  {
   "cell_type": "markdown",
   "id": "b9e6fe14-937c-4308-958f-14bab8009674",
   "metadata": {},
   "source": [
    "### Ejercicio adicional"
   ]
  },
  {
   "cell_type": "code",
   "execution_count": 1,
   "id": "72b00453-4f88-4cdb-874a-48d0b317ce40",
   "metadata": {},
   "outputs": [
    {
     "name": "stdout",
     "output_type": "stream",
     "text": [
      "nohtyP\n",
      "radar\n",
      "odnuM aloH\n"
     ]
    }
   ],
   "source": [
    "texto = \"Python\"\n",
    "print(texto[::-1])   # \"nohtyP\"\n",
    "\n",
    "palabra = \"radar\"\n",
    "print(palabra[::-1]) # \"radar\" (igual, porque es palíndromo)\n",
    "\n",
    "frase = \"Hola Mundo\"\n",
    "print(frase[::-1])   # \"odnuM aloH\""
   ]
  },
  {
   "cell_type": "code",
   "execution_count": null,
   "id": "3ad6df0e-759c-4981-a32f-9763a6493dbb",
   "metadata": {},
   "outputs": [],
   "source": []
  }
 ],
 "metadata": {
  "kernelspec": {
   "display_name": "Python 3 (ipykernel)",
   "language": "python",
   "name": "python3"
  },
  "language_info": {
   "codemirror_mode": {
    "name": "ipython",
    "version": 3
   },
   "file_extension": ".py",
   "mimetype": "text/x-python",
   "name": "python",
   "nbconvert_exporter": "python",
   "pygments_lexer": "ipython3",
   "version": "3.13.3"
  }
 },
 "nbformat": 4,
 "nbformat_minor": 5
}
