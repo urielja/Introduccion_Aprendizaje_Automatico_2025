{
 "cells": [
  {
   "cell_type": "markdown",
   "id": "80ed9602-bd21-4653-b361-186faef6831e",
   "metadata": {},
   "source": [
    "#### Repaso Pyton"
   ]
  },
  {
   "cell_type": "markdown",
   "id": "0a8a4d57-c6a5-44fa-bd10-cc9a4deb1452",
   "metadata": {},
   "source": [
    "### Funciones"
   ]
  },
  {
   "cell_type": "code",
   "execution_count": 7,
   "id": "6cb60b38-13c1-43d1-a35d-47eb17a1133f",
   "metadata": {},
   "outputs": [],
   "source": [
    "def resta(a,b):\n",
    "    c = a - b\n",
    "    return c\n"
   ]
  },
  {
   "cell_type": "code",
   "execution_count": 8,
   "id": "a273e47c-a1ea-40ba-9059-f16921f5f9c3",
   "metadata": {},
   "outputs": [
    {
     "data": {
      "text/plain": [
       "-1"
      ]
     },
     "execution_count": 8,
     "metadata": {},
     "output_type": "execute_result"
    }
   ],
   "source": [
    "resta(1,2)"
   ]
  },
  {
   "cell_type": "code",
   "execution_count": 9,
   "id": "7b0a63ac-52c3-486a-9c0e-f1f6a61810d8",
   "metadata": {},
   "outputs": [
    {
     "name": "stdout",
     "output_type": "stream",
     "text": [
      "-1\n"
     ]
    }
   ],
   "source": [
    "print(resta(1,2))"
   ]
  },
  {
   "cell_type": "code",
   "execution_count": 10,
   "id": "f88e9bc7-399b-44de-9e24-7e0d957ab9a3",
   "metadata": {},
   "outputs": [],
   "source": [
    "d = resta(1,5)"
   ]
  },
  {
   "cell_type": "code",
   "execution_count": 11,
   "id": "3b6e87f5-eb87-42c5-ba9a-3d1f49788f22",
   "metadata": {},
   "outputs": [
    {
     "name": "stdout",
     "output_type": "stream",
     "text": [
      "-4\n"
     ]
    }
   ],
   "source": [
    "print(d)"
   ]
  },
  {
   "cell_type": "code",
   "execution_count": 13,
   "id": "e6a322c0-8863-48ee-bc10-66135df9f1cc",
   "metadata": {},
   "outputs": [
    {
     "data": {
      "text/plain": [
       "\u001b[31mSignature:\u001b[39m print(*args, sep=\u001b[33m' '\u001b[39m, end=\u001b[33m'\\n'\u001b[39m, file=\u001b[38;5;28;01mNone\u001b[39;00m, flush=\u001b[38;5;28;01mFalse\u001b[39;00m)\n",
       "\u001b[31mDocstring:\u001b[39m\n",
       "Prints the values to a stream, or to sys.stdout by default.\n",
       "\n",
       "sep\n",
       "  string inserted between values, default a space.\n",
       "end\n",
       "  string appended after the last value, default a newline.\n",
       "file\n",
       "  a file-like object (stream); defaults to the current sys.stdout.\n",
       "flush\n",
       "  whether to forcibly flush the stream.\n",
       "\u001b[31mType:\u001b[39m      builtin_function_or_method"
      ]
     },
     "metadata": {},
     "output_type": "display_data"
    }
   ],
   "source": [
    "print?"
   ]
  },
  {
   "cell_type": "markdown",
   "id": "197fcd19-48ec-42e6-955a-55bb43e59f3f",
   "metadata": {},
   "source": [
    "### Cadena de caracteres"
   ]
  },
  {
   "cell_type": "code",
   "execution_count": 16,
   "id": "7a9b118a-a0dd-4421-aee7-2c9db94ebe27",
   "metadata": {},
   "outputs": [],
   "source": [
    "f = 'Hola'"
   ]
  },
  {
   "cell_type": "code",
   "execution_count": 17,
   "id": "ab2677ee-7dbc-4eef-bb24-2eea0c3b976e",
   "metadata": {},
   "outputs": [
    {
     "name": "stdout",
     "output_type": "stream",
     "text": [
      "Hola\n"
     ]
    }
   ],
   "source": [
    "print(f)"
   ]
  },
  {
   "cell_type": "code",
   "execution_count": 22,
   "id": "dc728775-8d50-406d-9e24-5451c8e7132c",
   "metadata": {},
   "outputs": [],
   "source": [
    "a = 5"
   ]
  },
  {
   "cell_type": "code",
   "execution_count": null,
   "id": "5e48d105-9ffa-4713-b3b2-a05fec9f6e21",
   "metadata": {},
   "outputs": [],
   "source": [
    "f + ' ' + 'como estan?'"
   ]
  },
  {
   "cell_type": "code",
   "execution_count": 18,
   "id": "ef54d60e-c65a-412d-acb2-c08cdb501cfb",
   "metadata": {},
   "outputs": [
    {
     "ename": "NameError",
     "evalue": "name 'a' is not defined",
     "output_type": "error",
     "traceback": [
      "\u001b[31m---------------------------------------------------------------------------\u001b[39m",
      "\u001b[31mNameError\u001b[39m                                 Traceback (most recent call last)",
      "\u001b[36mCell\u001b[39m\u001b[36m \u001b[39m\u001b[32mIn[18]\u001b[39m\u001b[32m, line 1\u001b[39m\n\u001b[32m----> \u001b[39m\u001b[32m1\u001b[39m f + \u001b[43ma\u001b[49m\n",
      "\u001b[31mNameError\u001b[39m: name 'a' is not defined"
     ]
    }
   ],
   "source": [
    "f + a"
   ]
  },
  {
   "cell_type": "code",
   "execution_count": 23,
   "id": "8358580b-4219-44f0-bc5d-77d7ffe6cafa",
   "metadata": {},
   "outputs": [],
   "source": [
    "a_str =  str(a)"
   ]
  },
  {
   "cell_type": "code",
   "execution_count": 24,
   "id": "150a0e7f-fa93-41c6-b88e-77cf1b0e7753",
   "metadata": {},
   "outputs": [
    {
     "data": {
      "text/plain": [
       "str"
      ]
     },
     "execution_count": 24,
     "metadata": {},
     "output_type": "execute_result"
    }
   ],
   "source": [
    "type(a_str)"
   ]
  },
  {
   "cell_type": "markdown",
   "id": "d12c1dc3-7887-4ca7-b069-371aa72cf9f2",
   "metadata": {},
   "source": [
    "### Format"
   ]
  },
  {
   "cell_type": "code",
   "execution_count": 26,
   "id": "88c8817c-0ee8-42df-b373-cc40ca17f356",
   "metadata": {},
   "outputs": [
    {
     "name": "stdout",
     "output_type": "stream",
     "text": [
      "1 + 2 = 3.1\n"
     ]
    }
   ],
   "source": [
    "print(\"{} + {} = {}\".format(1,2,3.1))"
   ]
  },
  {
   "cell_type": "code",
   "execution_count": 1,
   "id": "6bbcc983-8bb7-43e3-a753-25aa19630684",
   "metadata": {},
   "outputs": [
    {
     "name": "stdout",
     "output_type": "stream",
     "text": [
      "ab\n",
      "True\n"
     ]
    }
   ],
   "source": [
    "ej_tupla = (1, \"ab\", False)\n",
    "ej_lista = [2, \"mm\", True]\n",
    "print(ej_tupla[1])\n",
    "print(ej_lista[2])"
   ]
  },
  {
   "cell_type": "markdown",
   "id": "a2230c39-44e1-48af-b1ef-e26198907da3",
   "metadata": {},
   "source": [
    "### Diccionarios"
   ]
  },
  {
   "cell_type": "code",
   "execution_count": 2,
   "id": "5976b6fe-2143-4c8c-a7fd-37357568516c",
   "metadata": {},
   "outputs": [
    {
     "name": "stdout",
     "output_type": "stream",
     "text": [
      "Gaddiel\n",
      "GDL\n"
     ]
    }
   ],
   "source": [
    "persona = {'nombre': 'Gaddiel', 'apellido': 'Desirena', 'Ciudad': 'GDL'}\n",
    "print(persona['nombre'])\n",
    "print(persona['Ciudad'])"
   ]
  },
  {
   "cell_type": "markdown",
   "id": "e7525483-56e9-4bb5-a0ea-407b4448c33d",
   "metadata": {},
   "source": [
    "### Control de flujo"
   ]
  },
  {
   "cell_type": "code",
   "execution_count": 3,
   "id": "878488f6-eaf9-4d03-82a8-33320d85c2fe",
   "metadata": {},
   "outputs": [
    {
     "name": "stdout",
     "output_type": "stream",
     "text": [
      "Muy alto\n"
     ]
    }
   ],
   "source": [
    "a = 6\n",
    "if a > 5:\n",
    "    print('Muy alto')\n",
    "elif a < 5:\n",
    "    print('Muy bajo')\n",
    "else:\n",
    "    print('Valor correcto')"
   ]
  },
  {
   "cell_type": "code",
   "execution_count": 5,
   "id": "a6557b1f-f520-4bcd-a4ad-a0acd250f609",
   "metadata": {},
   "outputs": [],
   "source": [
    "lista = [1,2,3,4,5]"
   ]
  },
  {
   "cell_type": "code",
   "execution_count": 6,
   "id": "e88aa327-ce01-48d2-b505-557f87056bb5",
   "metadata": {},
   "outputs": [
    {
     "data": {
      "text/plain": [
       "True"
      ]
     },
     "execution_count": 6,
     "metadata": {},
     "output_type": "execute_result"
    }
   ],
   "source": [
    "4 in lista"
   ]
  },
  {
   "cell_type": "code",
   "execution_count": 7,
   "id": "46d7205a-14df-41fa-9909-0f1d2c5c3cae",
   "metadata": {},
   "outputs": [
    {
     "data": {
      "text/plain": [
       "False"
      ]
     },
     "execution_count": 7,
     "metadata": {},
     "output_type": "execute_result"
    }
   ],
   "source": [
    "4 not in lista"
   ]
  },
  {
   "cell_type": "code",
   "execution_count": null,
   "id": "331d9bca-4437-4837-bdaf-7f30e330485e",
   "metadata": {},
   "outputs": [],
   "source": []
  }
 ],
 "metadata": {
  "kernelspec": {
   "display_name": "Python 3 (ipykernel)",
   "language": "python",
   "name": "python3"
  },
  "language_info": {
   "codemirror_mode": {
    "name": "ipython",
    "version": 3
   },
   "file_extension": ".py",
   "mimetype": "text/x-python",
   "name": "python",
   "nbconvert_exporter": "python",
   "pygments_lexer": "ipython3",
   "version": "3.13.3"
  }
 },
 "nbformat": 4,
 "nbformat_minor": 5
}
