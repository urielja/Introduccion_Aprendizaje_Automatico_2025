{
 "cells": [
  {
   "cell_type": "markdown",
   "metadata": {},
   "source": [
    "\n",
    "<img style=\"float: left;;\" src='Figures/alinco.png' /></a>\n",
    "    \n",
    "# <center> <font color= #000047> Módulo III: Algoritmos de Aprendizaje Máquina\n",
    "\n"
   ]
  },
  {
   "cell_type": "markdown",
   "metadata": {},
   "source": [
    "## Introducción"
   ]
  },
  {
   "cell_type": "markdown",
   "metadata": {},
   "source": [
    "El aprendizaje automático es el subconjunto de inteligencia artificial (IA) que se centra en desarrollar sistemas que aprenden, o mejoran el rendimiento, en función de los datos que consumen.\n",
    "\n",
    ">Hoy en día, el aprendizaje autónomo funciona en todo nuestro alrededor. Cuando interactuamos con bancos, compramos en línea o usamos redes sociales, los algoritmos de aprendizaje automático entran en juego para hacer que nuestra experiencia sea eficiente, fluida y segura."
   ]
  },
  {
   "cell_type": "markdown",
   "metadata": {},
   "source": [
    "Los algoritmos son los motores que impulsan el aprendizaje automático. En general, actualmente se utilizan dos tipos principales de algoritmos de aprendizaje automático:\n",
    "\n",
    "> `Aprendizaje Supervisado`\n",
    "\n",
    "> `Aprendizaje no supervisado.`\n",
    "\n",
    "La diferencia entre ellos se define por cómo cada uno aprende acerca de los datos para hacer predicciones."
   ]
  },
  {
   "cell_type": "markdown",
   "metadata": {},
   "source": [
    "## Aprendizaje Supervizado y No supervizado"
   ]
  },
  {
   "cell_type": "markdown",
   "metadata": {},
   "source": [
    "**Aprendizaje Supervizado**.\n",
    "\n",
    "Los algoritmos supervisados son los más utilizados. Con este modelo, un científico de datos actúa como guía y enseña al algoritmo las conclusiones que debe hacer. os ejemplos de aprendizaje automático supervisado incluyen algoritmos tales como regresión lineal y logística, clasificación multiclase y máquinas de vectores de soporte.\n"
   ]
  },
  {
   "cell_type": "markdown",
   "metadata": {},
   "source": [
    "**Aprendizaje No Supervizado**.\n",
    "\n",
    "El Aprendizaje No supervisado utiliza un enfoque más independiente, en el que una computadora aprende a identificar procesos y patrones complejos sin que un ser humano proporcione una guía cercana y constante. El aprendizaje automático no supervisado implica la capacitación basada en datos que no tiene etiquetas o un resultado específico definido.\n"
   ]
  },
  {
   "cell_type": "markdown",
   "metadata": {},
   "source": [
    "## Proceso de Análisis del Aprendizaje No Supervizado"
   ]
  },
  {
   "cell_type": "markdown",
   "metadata": {},
   "source": [
    "Las principales aplicaciones de aprendizaje no supervisado son:\n",
    "\n",
    ">**Segmentación de conjuntos de datos por atributos compartidos.**\n",
    "\n",
    ">**Detección de anomalías que no encajan en ningún grupo.**\n",
    "\n",
    ">**Simplificación de datasets agregando variables con atributos similares.**\n",
    "\n",
    "En resumen, el objetivo principal es estudiar la estructura intrínseca (y comúnmente oculta) de los datos.\n",
    "Estas técnicas se pueden condensar en dos tipos principales de problemas que el aprendizaje no supervisado trata de resolver. Estos son los problemas:\n",
    "\n",
    ">`Agrupación (Clustering)`\n",
    "\n",
    ">`Reducción de la dimensionalidad`\n",
    "\n",
    "\n"
   ]
  },
  {
   "cell_type": "markdown",
   "metadata": {},
   "source": [
    "## Clustering\n",
    "\n",
    "El objetivo de la agrupación es encontrar diferentes grupos dentro de los elementos de los datos. Para ello, los algoritmos de agrupamiento encuentran la estructura en los datos de manera que los elementos del mismo clúster (o grupo) sean más similares entre sí que con los de clústeres diferentes.\n"
   ]
  },
  {
   "cell_type": "markdown",
   "metadata": {},
   "source": [
    "El modelo de aprendizaje automático podrá inferir que hay dos clases diferentes sin saber nada más de los datos.\n",
    "\n",
    "Estos algoritmos de aprendizaje no supervisados tienen una gama increíblemente amplia de aplicaciones y son muy útiles para resolver problemas del mundo real como:\n",
    "\n",
    ">la detección de anomalías\n",
    "\n",
    ">la recomendación de sistemas\n",
    "\n",
    ">la agrupación de documentos o la búsqueda de clientes con intereses comunes basados en sus compras.\n",
    "\n",
    "Algunos de los algoritmos de agrupación más comunes, y los que se explorarán a lo largo del artículo, son:\n",
    "\n",
    ">`Clusterización Jerárquica (Hierarchical clustering)`\n",
    "\n",
    ">`K-Means (K-medias)`\n",
    "\n",
    ">`Density Based Scan Clustering (DBSCAN)`\n",
    "\n",
    ">`Modelo de Agrupamiento Gaussiano`\n"
   ]
  },
  {
   "cell_type": "markdown",
   "metadata": {},
   "source": [
    "## Reducción de Dimensionalidad"
   ]
  },
  {
   "cell_type": "markdown",
   "metadata": {},
   "source": [
    "Una de las técnicas de preprocesado para modelos de aprendizaje No Supervisado es la reducción de la dimensionalidad, que no es más que la reducción del número de variables en una colección de datos. \n",
    "\n",
    "Las razones por las que nos interesa reducir la dimensionalidad son varias:\n",
    "\n",
    "> Porque interesa identificar y eliminar las variables irrelevantes.\n",
    "\n",
    "> Porque no siempre el mejor modelo es el que más variables tiene en cuenta.\n",
    "\n",
    "> Porque se mejora el rendimiento computacional, lo que se traduce en un ahorro en coste y tiempo.\n",
    "\n",
    "> Porque se reduce la complejidad, lo que lleva a facilitar la comprensión del modelo y sus resultados."
   ]
  },
  {
   "cell_type": "markdown",
   "metadata": {},
   "source": [
    "#### Métodos de reducción de la dimensionalidad"
   ]
  },
  {
   "cell_type": "markdown",
   "metadata": {},
   "source": [
    "> **Análisis Factorial**. Los valores de los datos observados se expresan como funciones de varias causas posibles para encontrar las más importantes. Se supone que las observaciones son causadas por una transformación lineal de los factores latentes de dimensiones inferiores y por el ruido gaussiano añadido.\n",
    "\n",
    "> **Análisis de componentes principales (PCA)**. Es un procedimiento estadístico que transforma ortogonalmente las n dimensiones numéricas originales de un conjunto de datos en un nuevo conjunto de n dimensiones llamadas componentes principales.\n",
    "\n",
    "> **Análisis discriminante lineal (LDA)**. Proyecta los datos de forma que se maximiza la separabilidad de clases. Los ejemplos de la misma clase se ponen muy juntos en la proyección. Ejemplos de diferentes clases son colocados muy lejos por la proyección."
   ]
  },
  {
   "cell_type": "code",
   "execution_count": null,
   "metadata": {},
   "outputs": [],
   "source": []
  }
 ],
 "metadata": {
  "kernelspec": {
   "display_name": "Python 3 (ipykernel)",
   "language": "python",
   "name": "python3"
  },
  "language_info": {
   "codemirror_mode": {
    "name": "ipython",
    "version": 3
   },
   "file_extension": ".py",
   "mimetype": "text/x-python",
   "name": "python",
   "nbconvert_exporter": "python",
   "pygments_lexer": "ipython3",
   "version": "3.12.7"
  }
 },
 "nbformat": 4,
 "nbformat_minor": 4
}
