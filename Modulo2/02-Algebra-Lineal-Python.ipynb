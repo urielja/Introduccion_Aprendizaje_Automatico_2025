{
 "cells": [
  {
   "cell_type": "markdown",
   "metadata": {},
   "source": [
    "\n",
    "<img style=\"float: left;;\" src='Figures/alinco.png' /></a>\n",
    "    \n",
    "# <center> <font color= #000047>  Algebra Lineal con Python: Campos</font>\n",
    "___\n",
    "\n",
    "<img style=\"float: right; margin: 0px 0px 15px 15px;\" src=\"https://d3f1iyfxxz8i1e.cloudfront.net/courses/course_image/8873f981418c.jpeg\" width=\"400px\" height=\"400px\" />\n"
   ]
  },
  {
   "cell_type": "markdown",
   "metadata": {},
   "source": [
    "\n",
    "## Campos\n",
    "\n",
    "Un <a href=\"https://es.wikipedia.org/wiki/Cuerpo_(matem%C3%A1ticas)\">Campo</a>, $F$, es una [estructura algebraica](https://es.wikipedia.org/wiki/Estructura_algebraica) en la cual las operaciones de adición multiplicación se pueden realizar y cumplen con las siguientes propiedades: \n",
    "\n",
    "1. La [propiedad conmutativa](https://es.wikipedia.org/wiki/Conmutatividad) tanto para la adición como para la , es decir: $a + b = b + a$; y $a \\cdot b = b \\cdot a$; para todo $a, b \\in F$ \n",
    "\n",
    "2. La <a href=\"https://es.wikipedia.org/wiki/Asociatividad_(%C3%A1lgebra)\">propiedad asociativa</a>, tanto para la adición como para la ; es decir: $(a + b) + c = a + (b + c)$; y $(a \\cdot b) \\cdot c = a \\cdot (b \\cdot c)$; para todo $a, b, c \\in F$ \n",
    "\n",
    "3. La [propiedad distributiva](https://es.wikipedia.org/wiki/Distributividad) de la multiplicación sobre la adición</a>; es decir: $a \\cdot (b + c) = a \\cdot b + a \\cdot c$; para todo $a, b, c \\in F$ \n",
    "\n",
    "4. La existencia de un *[elemento neutro](https://es.wikipedia.org/wiki/Elemento_neutro)* tanto para la adición como para la multiplicación; es decir: $a + 0 = a$; y $a \\cdot 1 = a$; para todo $a \\in F$.\n",
    "\n",
    "5. La existencia de un *[elemento inverso](https://es.wikipedia.org/wiki/Elemento_sim%C3%A9trico)* tanto para la adición como para la multiplicación; es decir: $a + (-a) = 0$; y $a \\cdot a^{-1} = 1$; para todo $a \\in F$ y $a \\ne 0$.\n",
    "\n",
    "Dos de los <a href=\"https://es.wikipedia.org/wiki/Cuerpo_(matem%C3%A1ticas)\">Campos</a> más comunes con los que nos vamos a encontrar al trabajar en problemas de Álgebra lineal, van a ser el conjunto de los números reales, $\\mathbb{R}$; y el conjunto de los números complejos, $\\mathbb{C}$.\n",
    "\n",
    "## Vectores\n",
    "\n",
    "Muchas nociones físicas, tales como las fuerzas, velocidades y aceleraciones, involucran una magnitud (el valor de la fuerza, velocidad o aceleración) y una dirección. Cualquier entidad que involucre magnitud y dirección se llama *vector*. Los **vectores** se representan por flechas en las que la longitud de ellas define la magnitud; y la dirección de la flecha representa la dirección del vector. Podemos pensar en los vectores como una serie de números. Éstos números tienen una orden preestablecido, y podemos identificar cada número individual por su índice en ese orden. Los vectores identifican puntos en el espacio, en donde cada elemento representa una coordenada del eje en el espacio. La típica forma de representarlos es la siguiente:\n",
    "\n",
    "$$v = \\left[ \\begin{array}{c} x_1 \\\\ x_2 \\\\ \\vdots \\\\ x_n \\end{array} \\right]$$\n",
    "\n",
    "Geométricamente podemos representarlos del siguiente modo en el plano de 2 dimensiones:"
   ]
  },
  {
   "cell_type": "code",
   "execution_count": null,
   "metadata": {
    "hide_input": false
   },
   "outputs": [],
   "source": [
    "import matplotlib.pyplot as plt\n",
    "import numpy as np"
   ]
  },
  {
   "cell_type": "code",
   "execution_count": null,
   "metadata": {
    "hide_input": false
   },
   "outputs": [],
   "source": [
    "def move_spines():\n",
    "    \"\"\"Crea la figura de pyplot y los ejes. Mueve las lineas de la izquierda \n",
    "    y de abajo para que se intersecten con el origen. Elimina las lineas de\n",
    "    la derecha y la de arriba. Devuelve los ejes.\"\"\"\n",
    "    fix, ax = plt.subplots()\n",
    "    for spine in [\"left\", \"bottom\"]:\n",
    "        ax.spines[spine].set_position(\"zero\")\n",
    "    \n",
    "    for spine in [\"right\", \"top\"]:\n",
    "        ax.spines[spine].set_color(\"none\")\n",
    "    \n",
    "    return ax\n",
    "\n",
    "def vect_fig(vector, color): \n",
    "    \"\"\"Genera el grafico de los vectores en el plano\"\"\"\n",
    "    v = vector\n",
    "    ax.annotate(\"\", xy=v, xytext=[0, 0], color=color,\n",
    "                arrowprops=dict(facecolor=color,\n",
    "                                shrink=0,\n",
    "                                alpha=0.7,\n",
    "                                width=0.5))\n",
    "    ax.text(1.1 * v[0], 1.1 * v[1], v)\n",
    "\n",
    "ax = move_spines()\n",
    "ax.set_xlim(-5, 5)\n",
    "ax.set_ylim(-5, 5)\n",
    "ax.grid()\n",
    "vect_fig([2, 4], \"blue\")"
   ]
  },
  {
   "cell_type": "markdown",
   "metadata": {},
   "source": [
    "## Combinaciones lineales\n",
    "\n",
    "Cuando trabajamos con *vectores*, nos vamos a encontrar con dos operaciones fundamentales, la *suma* o *adición*; y la *multiplicación por escalares*. Cuando *sumamos* dos vectores $v$ y $w$, sumamos elemento por elemento, del siguiente modo:\n",
    "\n",
    "$$v + w\n",
    "=\n",
    "\\left[\n",
    "\\begin{array}{c}\n",
    "    v_1 \\\\\n",
    "    v_2 \\\\\n",
    "    \\vdots \\\\\n",
    "    v_n\n",
    "\\end{array}\n",
    "\\right]\n",
    "+\n",
    "\\left[\n",
    "\\begin{array}{c}\n",
    "     w_1 \\\\\n",
    "     w_2 \\\\\n",
    "    \\vdots \\\\\n",
    "     w_n\n",
    "\\end{array}\n",
    "\\right] =\n",
    "\\left[\n",
    "\\begin{array}{c}\n",
    "    v_1 + w_1 \\\\\n",
    "    v_2 + w_2 \\\\\n",
    "    \\vdots \\\\\n",
    "    v_n + w_n\n",
    "\\end{array}\n",
    "\\right]$$\n",
    "\n",
    "Geométricamente lo podemos ver representado del siguiente modo:"
   ]
  },
  {
   "cell_type": "code",
   "execution_count": null,
   "metadata": {},
   "outputs": [],
   "source": [
    "ax = move_spines()\n",
    "ax.set_xlim(-5,5)\n",
    "ax.set_ylim(-5,5)\n",
    "ax.grid()\n",
    "\n",
    "vecs=[[2,4],[2,-2]]\n",
    "\n",
    "for v in vecs:\n",
    "    vect_fig(v,'blue')\n",
    "    \n",
    "v = np.array([2,4]) + np.array([2,-2])\n",
    "vect_fig(v,'red')\n",
    "\n",
    "ax.plot([2,4],[-2,2], linestyle='--')\n",
    "a = ax.plot([2,4],[4,2], linestyle='--')"
   ]
  },
  {
   "cell_type": "markdown",
   "metadata": {},
   "source": [
    "Cuando *multiplicamos vectores por escalares*, lo que hacemos es tomar un número $\\alpha$ y un vector $v$; y creamos un nuevo vector $w$ en el cada elemento de $v$ es *multiplicado* por $\\alpha$ del siguiente modo:\n",
    "\n",
    "$$\\begin{split}\\alpha v\n",
    "=\n",
    "\\left[\n",
    "\\begin{array}{c}\n",
    "    \\alpha v_1 \\\\\n",
    "    \\alpha v_2 \\\\\n",
    "    \\vdots \\\\\n",
    "    \\alpha v_n\n",
    "\\end{array}\n",
    "\\right]\\end{split}$$\n",
    "\n",
    "Geométricamente podemos representar a esta operación en el plano de 2 dimensiones del siguiente modo:"
   ]
  },
  {
   "cell_type": "code",
   "execution_count": null,
   "metadata": {
    "hide_input": false
   },
   "outputs": [],
   "source": [
    "ax = move_spines()\n",
    "ax.set_xlim(-6,6)\n",
    "ax.set_ylim(-6,6)\n",
    "ax.grid()\n",
    "\n",
    "v=np.array([2,3])\n",
    "vect_fig(v,'blue')\n",
    "\n",
    "v2= v*2\n",
    "vect_fig(v2,'red')"
   ]
  },
  {
   "cell_type": "markdown",
   "metadata": {},
   "source": [
    "$$ w = \\alpha_1 e1 + \\alpha_2 e2 $$ "
   ]
  },
  {
   "cell_type": "code",
   "execution_count": null,
   "metadata": {},
   "outputs": [],
   "source": [
    "I2 = np.eye(2)\n",
    "I2"
   ]
  },
  {
   "cell_type": "code",
   "execution_count": null,
   "metadata": {},
   "outputs": [],
   "source": [
    "e1=np.array([1,0])\n",
    "e2=np.array([0,1])\n",
    "\n",
    "# [2,1]\n",
    "a1=2\n",
    "a2=1\n",
    "w = a1*e1 + a2*e2\n",
    "w"
   ]
  },
  {
   "cell_type": "code",
   "execution_count": null,
   "metadata": {},
   "outputs": [],
   "source": [
    "#w2=[20,30]\n",
    "a1=20\n",
    "a2=30\n",
    "w2 = a1*e1 + a2*e2\n",
    "w2"
   ]
  },
  {
   "cell_type": "code",
   "execution_count": null,
   "metadata": {},
   "outputs": [],
   "source": [
    "ax = move_spines()\n",
    "ax.set_xlim(-2,2)\n",
    "ax.set_ylim(-2,2)\n",
    "ax.grid()\n",
    "\n",
    "vect_fig(e1,'blue')\n",
    "vect_fig(e2,'red')\n",
    "\n",
    "vect_fig(w,'red')\n"
   ]
  },
  {
   "cell_type": "code",
   "execution_count": null,
   "metadata": {},
   "outputs": [],
   "source": [
    "ax = move_spines()\n",
    "ax.set_xlim(-40,40)\n",
    "ax.set_ylim(-40,40)\n",
    "ax.grid()\n",
    "\n",
    "vect_fig(e1,'blue')\n",
    "vect_fig(e2,'red')\n",
    "\n",
    "vect_fig(w2,'red')\n"
   ]
  },
  {
   "cell_type": "markdown",
   "metadata": {},
   "source": [
    "Cuando combinamos estas dos operaciones, formamos lo que se conoce en Álgebra lineal como [combinaciones lineales](https://es.wikipedia.org/wiki/Combinaci%C3%B3n_lineal). Es decir que una combinación lineal) va a ser una expresión matemática construida sobre un conjunto de vectores, en el que cada vector es *multiplicado por un *escalar* y los resultados son luego *sumados*. Matemáticamente lo podemos expresar de la siguiente forma:\n",
    "\n",
    "$$w = \\alpha_1 v_1 + \\alpha_2 v_2 + \\dots + \\alpha_n v_n = \\sum_{i=1}^n \\alpha_i v_i\n",
    "$$\n",
    "\n",
    "en donde, $v_n$ son vectores y $\\alpha_n$ son escalares.\n",
    "\n",
    "## Matrices, combinaciones lineales y Ax = b\n",
    "\n",
    "Una matriz es un arreglo bidimensional de números ordenados en filas y columnas, donde una fila es cada una de las líneas horizontales de la matriz y una columna es cada una de las líneas verticales. En una matriz cada elemento puede ser identificado utilizando dos índices, uno para la fila y otro para la columna en que se encuentra. Las podemos representar de la siguiente manera:\n",
    "\n",
    "$$A=\\begin{bmatrix}a_{11} & a_{12} & \\dots & a_{1n}\\\\a_{21} & a_{22} & \\dots & a_{2n}\n",
    "\\\\ \\vdots & \\vdots & \\ddots & \\vdots \\\\ \n",
    "a_{n1} & a_{n2} & \\dots & a_{nn}\\end{bmatrix}$$\n",
    "\n",
    "Las matrices se utilizan para múltiples aplicaciones y sirven, en particular, para representar los coeficientes de los sistemas de ecuaciones lineales o para representar [combinaciones lineales](https://es.wikipedia.org/wiki/Combinaci%C3%B3n_lineal).\n",
    "\n",
    "Supongamos que tenemos los siguientes 3 vectores:\n",
    "\n",
    "$$x_1\n",
    "=\n",
    "\\left[\n",
    "\\begin{array}{c}\n",
    "     1 \\\\\n",
    "    -1 \\\\\n",
    "     0\n",
    "\\end{array}\n",
    "\\right]\n",
    "\\\n",
    "x_2 =\n",
    "\\left[\n",
    "\\begin{array}{c}\n",
    "     0 \\\\\n",
    "     1 \\\\\n",
    "    -1 \n",
    "\\end{array}\n",
    "\\right] \\ \n",
    "x_3 =\n",
    "\\left[\n",
    "\\begin{array}{c}\n",
    "    0 \\\\\n",
    "    0 \\\\\n",
    "    1\n",
    "\\end{array}\n",
    "\\right]$$\n",
    "\n",
    "su combinación lineal en el espacio de 3 dimensiones va a ser igual a $\\alpha_1 x_1 + \\alpha_2 x_2 + \\alpha_3 x_3$; lo que es lo mismo que decir:\n",
    "\n",
    "$$\\alpha_1\n",
    "\\left[\n",
    "\\begin{array}{c}\n",
    "     1 \\\\\n",
    "    -1 \\\\\n",
    "     0\n",
    "\\end{array}\n",
    "\\right]\n",
    "+ \\alpha_2\n",
    "\\left[\n",
    "\\begin{array}{c}\n",
    "     0 \\\\\n",
    "     1 \\\\\n",
    "    -1 \n",
    "\\end{array}\n",
    "\\right] + \\alpha_3\n",
    "\\left[\n",
    "\\begin{array}{c}\n",
    "    0 \\\\\n",
    "    0 \\\\\n",
    "    1\n",
    "\\end{array}\n",
    "\\right] = \\left[\n",
    "\\begin{array}{c}\n",
    "    \\alpha_1 \\\\\n",
    "    \\alpha_2 - \\alpha_1 \\\\\n",
    "    \\alpha_3 - \\alpha_2\n",
    "\\end{array}\n",
    "\\right]$$\n",
    "\n",
    "Ahora esta combinación lineal la podríamos reescribir en forma matricial. Los vectores $x_1, x_2$ y $x_3$, pasarían a formar las columnas de la matriz $A$ y los  escalares $\\alpha_1, \\alpha_2$ y $\\alpha_3$ pasarían a ser los componentes del vector $x$ del siguiente modo:\n",
    "\n",
    "$$\\begin{bmatrix}1 & 0 & 0\\\\-1 & 1 & 0\n",
    "\\\\ 0 & -1 & 1\\end{bmatrix}\\begin{bmatrix} \\alpha_1 \\\\ \\alpha_2 \\\\ \\alpha_3\\end{bmatrix}=\n",
    "\\begin{bmatrix}\\alpha_1 \\\\ \\alpha_2 - \\alpha_1 \\\\ \\alpha_3 - \\alpha_2 \\end{bmatrix}$$\n",
    "\n",
    "De esta forma la matriz $A$ multiplicada por el vector $x$, nos da como resultado la misma [combinación lineal](https://es.wikipedia.org/wiki/Combinaci%C3%B3n_lineal) $b$. De esta forma, arribamos a una de las ecuaciones más fundamentales del Álgebra lineal:\n",
    "\n",
    "$$Ax = b$$\n",
    "\n",
    "Esta ecuación no solo nos va a servir para expresar combinaciones lineales, si no que también se vuelve de suma importancia a la hora de resolver [sistemas de ecuaciones lineales](https://es.wikipedia.org/wiki/Sistema_de_ecuaciones_lineales), en dónde $b$ va a ser conocido y la incógnita pasa a ser $x$. Por ejemplo, supongamos que queremos resolver el siguiente sistemas de ecuaciones de 3 incógnitas:\n",
    "\n",
    "$$ 2x_1 + 3x_2 + 5x_3 = 52 \\\\\n",
    "3x_1 + 6x_2 + 2x_3 = 61 \\\\\n",
    "8x_1 + 3x_2 + 6x_3 = 75\n",
    "$$\n",
    "\n",
    "Podemos ayudarnos de [SymPy](http://www.sympy.org/es/) para expresar a la matriz $A$ y $b$ para luego arribar a la solución del vector $x$."
   ]
  },
  {
   "cell_type": "markdown",
   "metadata": {},
   "source": [
    "$$Ax=b$$"
   ]
  },
  {
   "cell_type": "code",
   "execution_count": null,
   "metadata": {},
   "outputs": [],
   "source": [
    "import sympy as sy"
   ]
  },
  {
   "cell_type": "code",
   "execution_count": null,
   "metadata": {},
   "outputs": [],
   "source": [
    "# Resolviendo sistema de ecuaciones con SymPy\n",
    "A = sy.Matrix(((2,3,5),\n",
    "               (3,6,2),\n",
    "               (8,3,6)))\n",
    "A"
   ]
  },
  {
   "cell_type": "code",
   "execution_count": null,
   "metadata": {},
   "outputs": [],
   "source": [
    "type(A)"
   ]
  },
  {
   "cell_type": "code",
   "execution_count": null,
   "metadata": {},
   "outputs": [],
   "source": [
    "b=sy.Matrix(3,1,(52,61,75))\n",
    "b"
   ]
  },
  {
   "cell_type": "code",
   "execution_count": null,
   "metadata": {},
   "outputs": [],
   "source": [
    "# Resolviendo Ax = b\n",
    "x = A.LUsolve(b)\n",
    "x"
   ]
  },
  {
   "cell_type": "code",
   "execution_count": null,
   "metadata": {},
   "outputs": [],
   "source": [
    "A*x"
   ]
  },
  {
   "cell_type": "code",
   "execution_count": null,
   "metadata": {},
   "outputs": [],
   "source": [
    "A*x == b"
   ]
  },
  {
   "cell_type": "code",
   "execution_count": null,
   "metadata": {},
   "outputs": [],
   "source": [
    "A"
   ]
  },
  {
   "cell_type": "code",
   "execution_count": null,
   "metadata": {},
   "outputs": [],
   "source": [
    "# Utilizando numpy:\n",
    "A = np.array([[2,3,5],\n",
    "              [3,6,2],\n",
    "              [8,3,6]])\n",
    "b = np.array([52,61,75])\n",
    "\n",
    "x = np.linalg.solve(A,b)\n",
    "x"
   ]
  },
  {
   "cell_type": "markdown",
   "metadata": {},
   "source": [
    "## La matriz  identidad , la matriz transpuesta y la matriz invertible\n",
    "\n",
    "Tres matricesde suma importancia en problemas de Álgebra lineal. Son la matriz identidad, la matriz transpuesta y la [matriz invertible](https://es.wikipedia.org/wiki/Matriz_invertible).\n",
    "\n",
    "La [matriz identidad] es el elemento neutro en la [multiplicación de matrices], es el equivalente al número 1. Cualquier matrizmultiplicada por la [matriz identidad] nos da como resultado la misma matriz</a>. La [matriz identidad] es una [matriz cuadrada] (tiene siempre el mismo número de filas que de columnas); y su diagonal principal se compone de todos elementos 1 y el resto de los elementos se completan con 0. Suele representase con la letra $I$.\n",
    "\n",
    "Por ejemplo la [matriz identidad] de 3x3 sería la siguiente:\n",
    "\n",
    "$$I=\\begin{bmatrix}1 & 0 & 0 & \\\\0 & 1 & 0\\\\ 0 & 0 & 1\\end{bmatrix}$$\n",
    "\n",
    "La [matriz transpuesta] de una matriz$A$ de $m \\times n$ va a ser igual a la matriz$n \\times m$ $A^T$, la cual se obtiene al transformar las filas en columnas y las columnas en filas, del siguiente modo:\n",
    "\n",
    "$$\\begin{bmatrix}a & b & \\\\c & d & \\\\ e & f & \\end{bmatrix}^T=\n",
    "\\begin{bmatrix}a & c & e &\\\\b & d & f & \\end{bmatrix}$$\n",
    "\n",
    "Una [matriz cuadrada] va a ser *[simétrica](https://es.wikipedia.org/wiki/Matriz_sim%C3%A9trica)* si $A^T = A$, es decir si $A$ es igual a su propia [matriz transpuesta].\n",
    "\n",
    "Algunas de las propiedades de las [matrices transpuestas] son:\n",
    "\n",
    "a. $(A^T)^T = A$\n",
    "\n",
    "b. $(A + B)^T = A^T + B^T$\n",
    "\n",
    "c. $k(A)^T = k(A^T)$\n",
    "\n",
    "d. $(AB)^T = B^T A^T$\n",
    "\n",
    "e. $(A^r)^T = (A^T)^r$ para todos los $r$ no negativos.\n",
    "\n",
    "f. Si $A$ es una [matriz cuadrada], entonces $A + A^T$ es una matriz simétrica.\n",
    "\n",
    "g. Para cualquier matriz$A$, $A A^T$ y $A^T A$ son matrices simétricas.\n",
    "\n",
    "Veamos algunos ejemplos en Python"
   ]
  },
  {
   "cell_type": "code",
   "execution_count": null,
   "metadata": {},
   "outputs": [],
   "source": [
    "# Matriz transpuesta\n",
    "A = sy.Matrix([[2,-3,-8,7],\n",
    "               [-2,-1,2,-7],\n",
    "               [1,0,-3,6]])\n",
    "A"
   ]
  },
  {
   "cell_type": "code",
   "execution_count": null,
   "metadata": {},
   "outputs": [],
   "source": [
    "A.transpose()"
   ]
  },
  {
   "cell_type": "code",
   "execution_count": null,
   "metadata": {},
   "outputs": [],
   "source": [
    "# propiedad a) \n",
    "A.transpose().transpose()"
   ]
  },
  {
   "cell_type": "code",
   "execution_count": null,
   "metadata": {},
   "outputs": [],
   "source": [
    "# Creando una matriz simétrica\n",
    "As = A*A.transpose()\n",
    "As"
   ]
  },
  {
   "cell_type": "code",
   "execution_count": null,
   "metadata": {},
   "outputs": [],
   "source": [
    "#As == As.transpose() propiedad de simetría\n",
    "As.transpose()"
   ]
  },
  {
   "cell_type": "code",
   "execution_count": null,
   "metadata": {},
   "outputs": [],
   "source": []
  },
  {
   "cell_type": "markdown",
   "metadata": {},
   "source": [
    "La matriz invertible es muy importante, ya que esta relacionada con la ecuación $Ax = b$. Si tenemos una matriz cuadrada $A$ de $n \\times n$, entonces la matriz inversa de $A$ es una matriz $A'$ o $A^{-1}$ de $n \\times n$ que hace que la multiplicación $A A^{-1}$ sea igual a la [matriz identidad](https://es.wikipedia.org/wiki/Matriz_identidad) $I$. Es decir que es la matriz recíproca de $A$.\n",
    "\n",
    "$A A^{-1} = I$ o $A^{-1} A = I$\n",
    "\n",
    "En caso de que estas condiciones se cumplan, decimos que la matriz es invertible. \n",
    "\n",
    "Que una matriz sea invertible tiene importantes implicaciones, como ser:\n",
    "\n",
    "> a. Si $A$ es una matriz invertible, entonces su matriz inversa es única.\n",
    "\n",
    "> b. Si $A$ es una matriz invertible de $n \\times n$, entonces el sistemas de ecuaciones lineales dado por $Ax = b$ tiene una única solución $x = A^{-1}b$ para cualquier $b$ en $\\mathbb{R}^n$.\n",
    "\n",
    "> c. Una matriz va a ser invertible si y solo si su determinante es distinto de cero. En el caso de que el determinante sea cero se dice que la matriz es singular.\n",
    "\n",
    "> d. Si $A$ es una matriz invertible, entonces el sistema $Ax = 0$ solo tiene una solución *trivial*. Es decir, en las que todas las incógnitas son ceros.\n",
    "\n",
    "> e. Si $A$ es una matriz invertible, entonces su [forma escalonada](https://es.wikipedia.org/wiki/Matriz_escalonada) va a ser igual a la matriz identidad.\n",
    "\n",
    "> f. Si $A$ es una matriz invertible, entonces $A^{-1}$ es invertible y:\n",
    "\n",
    "$$(A^{-1})^{-1} = A$$\n",
    "\n",
    "> g. Si $A$ es una matriz invertible y $\\alpha$ es un  escalar distinto de cero, entonces $\\alpha A$ es invertible y:\n",
    "\n",
    "$$(\\alpha A)^{-1} = \\frac{1}{\\alpha}A^{-1}$$.\n",
    "\n",
    "> h. Si $A$ y $B$ son matrices invertibles del mismo tamaño, entonces $AB$ es invertible y:\n",
    "\n",
    "$$(AB)^{-1} = B^{-1} A^{-1}$$.\n",
    "\n",
    "> i. Si $A$ es una matriz invertible, entonces $A^T$ es invertible y:\n",
    "\n",
    "$$(A^T)^{-1} = (A^{-1})^T$$.\n",
    "\n",
    "Con [SymPy](http://www.sympy.org/es/) podemos trabajar con las matrices invertibles del siguiente modo:"
   ]
  },
  {
   "cell_type": "code",
   "execution_count": null,
   "metadata": {},
   "outputs": [],
   "source": [
    "# Matriz invertible\n",
    "A = sy.Matrix([[1,2],\n",
    "               [3,9]])\n",
    "A"
   ]
  },
  {
   "cell_type": "code",
   "execution_count": null,
   "metadata": {},
   "outputs": [],
   "source": [
    "A_inv = A.inv()\n",
    "A_inv"
   ]
  },
  {
   "cell_type": "code",
   "execution_count": null,
   "metadata": {},
   "outputs": [],
   "source": [
    "# A * A_inv = I\n",
    "A*A_inv"
   ]
  },
  {
   "cell_type": "code",
   "execution_count": null,
   "metadata": {},
   "outputs": [],
   "source": [
    "# forma escalonada igual a indentidad.\n",
    "A.rref()"
   ]
  },
  {
   "cell_type": "code",
   "execution_count": null,
   "metadata": {},
   "outputs": [],
   "source": [
    "A"
   ]
  },
  {
   "cell_type": "code",
   "execution_count": null,
   "metadata": {},
   "outputs": [],
   "source": [
    "# la inversa de A_inv es A\n",
    "A_inv.inv() "
   ]
  },
  {
   "cell_type": "code",
   "execution_count": null,
   "metadata": {},
   "outputs": [],
   "source": [
    "# comprobar las propiedades g,h i con sympy\n",
    "\n",
    "A"
   ]
  },
  {
   "cell_type": "code",
   "execution_count": null,
   "metadata": {},
   "outputs": [],
   "source": [
    "A2=3*A\n",
    "A2"
   ]
  },
  {
   "cell_type": "code",
   "execution_count": null,
   "metadata": {},
   "outputs": [],
   "source": [
    "A2.inv(), (1/3)*A.inv()"
   ]
  },
  {
   "cell_type": "markdown",
   "metadata": {},
   "source": [
    "## Espacios vectoriales\n",
    "\n",
    "Las Matemáticas derivan su poder en gran medida de su capacidad para encontrar las características comunes de los diversos problemas y estudiarlos de manera abstracta. Existen muchos problemas que implican los conceptos relacionados de *adición</a>*, *multiplicación por escalares</a>*, y la [linealidad](https://es.wikipedia.org/wiki/Lineal). Para estudiar estas propiedades de manera abstracta, debemos  introducir la noción de [espacio vectorial](https://es.wikipedia.org/wiki/Espacio_vectorial).\n",
    "\n",
    "Para alcanzar la definición de un espacio vectorial, debemos combinar los conceptos que venimos viendo hasta ahora de Campo, vector y las operaciones de *adición</a>*; y *multiplicación por escalares</a>*. De esta forma un espacio vectorial, $V$, sobre un Campo</a>, $F$,  va a ser un [conjunto](http://relopezbriega.github.io/blog/2015/10/11/conjuntos-con-python/) en el que están definidas las operaciones de *adición</a>* y  *multiplicación por escalares</a>*, tal que para cualquier par de elementos $x$ e $y$ en $V$, existe un elemento único $x + y$ en $V$, y para cada elemento $\\alpha$ en $F$ y cada elemento $x$ en $V$, exista un único elemento $\\alpha x$ en $V$, de manera que se cumplan las siguientes condiciones:\n",
    "\n",
    "1. Para todo $x, y$ en $V$, $x + y = y + x$ ([conmutatividad](https://es.wikipedia.org/wiki/Conmutatividad) de la adición).\n",
    "\n",
    "2. Para todo $x, y, z$ en $V$, $(x + y) + z = x + (y + z)$. (<a href=\"https://es.wikipedia.org/wiki/Asociatividad_(%C3%A1lgebra)\">asociatividad</a> de la adición).\n",
    "\n",
    "3. Existe un elemento en $V$ llamado $0$ tal que $x + 0 = x$ para todo $x$ en $V$.\n",
    "\n",
    "4. Para cada elemento $x$ en $V$, existe un elemento $y$ en $V$ tal que $x + y = 0$.\n",
    "\n",
    "5. Para cada elemento $x$ en $V$, $1 x = x$.\n",
    "\n",
    "6. Para cada par, $\\alpha, \\beta$ en $F$ y cada elemento $x$ en $V$, $(\\alpha \\beta) x = \\alpha (\\beta x)$.\n",
    "\n",
    "7. Para cada elemento $\\alpha$ en $F$ y cada para de elementos $x, y$ en $V$, $\\alpha(x + y) = \\alpha x + \\alpha y$.\n",
    "\n",
    "8. Para cada par de elementos $\\alpha, \\beta$ en $F$ y cada elemento $x$ en $V$, $(\\alpha +  \\beta)x = \\alpha x + \\beta x$.\n",
    "\n",
    "Los espacios vectoriales más comunes son $\\mathbb{R}^2$, el cual representa el plano de 2 dimensiones y consiste de todos los pares ordenados de los [números reales](https://es.wikipedia.org/wiki/N%C3%BAmero_real):\n",
    "\n",
    "$$\\mathbb{R}^2 = \\{(x, y): x, y \\in \\mathbb{R}\\}$$\n",
    "\n",
    "y $\\mathbb{R}^3$, que representa el espacio ordinario de 3 dimensiones y consiste en todos los tríos ordenados de los  números reales:\n",
    "\n",
    "$$\\mathbb{R}^3 = \\{(x, y, z): x, y, z \\in \\mathbb{R}\\}$$\n",
    "\n",
    "Una de las grandes bellezas del Álgebra lineal es que podemos fácilmente pasar a trabajar sobre espacios de $n$ dimensiones, $\\mathbb{R}^n$!\n",
    "\n",
    "Tampoco tenemos porque quedarnos con solo los números reales, ya que la definición que dimos de un espacio vectorial reside sobre un Campo</a>; y los campos</a> pueden estar representados por números complejos. Por tanto también podemos tener [espacios vectoriales](https://es.wikipedia.org/wiki/Espacio_vectorial)  $\\mathbb{C}^2, \\mathbb{C}^3, \\dots, \\mathbb{C}^n$.\n",
    "\n",
    "### Subespacios\n",
    "\n",
    "Normalmente, en el estudio de cualquier estructura algebraica es interesante examinar subconjuntos que tengan la misma estructura que el [conjunto](http://relopezbriega.github.io/blog/2015/10/11/conjuntos-con-python/) que esta siendo considerado. Así, dentro de los espacios vectoriales,  podemos tener [subespacios vectoriales](https://es.wikipedia.org/wiki/Subespacio_vectorial), los cuales son un subconjunto que cumplen con las mismas *propiedades* que el espacio vectorial que los contiene. De esta forma, $\\mathbb{R}^3$ representa un [subespacio](https://es.wikipedia.org/wiki/Subespacio_vectorial) del espacio vectorial $\\mathbb{R}^n$.\n",
    "\n",
    "\n",
    "## Independencia lineal\n",
    "\n",
    "La [independencia lineal](https://es.wikipedia.org/wiki/Dependencia_e_independencia_lineal) es un concepto aparentemente simple con consecuencias que se extienden profundamente en muchos aspectos del análisis. Si deseamos entender cuando una matriz puede ser invertible, o cuando un sistema de ecuaciones lineales tiene una única solución, o cuando una estimación por [mínimos cuadrados](https://es.wikipedia.org/wiki/M%C3%ADnimos_cuadrados) se define de forma única, la idea fundamental más importante es la de independencia lineal de vectores.\n",
    "\n",
    "Dado un conjunto finito de vectores $x_1, x_2, \\dots, x_n$ se dice que los mismos son *[linealmente independientes](https://es.wikipedia.org/wiki/Dependencia_e_independencia_lineal)*, si y solo si, los únicos escalares</a> $\\alpha_1, \\alpha_2, \\dots, \\alpha_n$ que satisfacen la ecuación:\n",
    "\n",
    "$$\\alpha_1 x_1 + \\alpha_2 x_2 + \\dots + \\alpha_n x_n = 0$$\n",
    "\n",
    "son todos ceros, $\\alpha_1 = \\alpha_2 = \\dots = \\alpha_n = 0$.\n",
    "\n",
    "En caso de que esto no se cumpla, es decir, que existe una solución a la ecuación de arriba en que no todos los escalares</a> son ceros, a esta solución se la llama *no trivial* y se dice que los vectores son *linealmente dependientes*.\n",
    "\n",
    "Para ilustrar la definición y que quede más clara, veamos algunos ejemplos. Supongamos que queremos determinar si los siguientes vectores son *linealmente independientes*: \n",
    "\n",
    "$$\\begin{split}x_1\n",
    "=\n",
    "\\left[\n",
    "\\begin{array}{c}\n",
    "    1.2 \\\\\n",
    "1.1 \\\\\n",
    "\\end{array}\n",
    "\\right] \\  \\  \\ x_2 =\n",
    "\\left[\n",
    "\\begin{array}{c}\n",
    "    -2.2 \\\\\n",
    "1.4 \\\\\n",
    "\\end{array}\n",
    "\\right]\\end{split}$$\n",
    "\n",
    "Para lograr esto, deberíamos resolver el siguiente [sistema de ecuaciones](https://es.wikipedia.org/wiki/Sistema_de_ecuaciones_lineales) y verificar si la única solución es aquella en que los escalares</a> sean ceros.\n",
    "\n",
    "$$\\begin{split}\\alpha_1\n",
    "\\left[\n",
    "\\begin{array}{c}\n",
    "    1.2 \\\\\n",
    "1.1 \\\\\n",
    "\\end{array}\n",
    "\\right] + \\alpha_2\n",
    "\\left[\n",
    "\\begin{array}{c}\n",
    "    -2.2 \\\\\n",
    "1.4 \\\\\n",
    "\\end{array}\n",
    "\\right]\\end{split} = 0\n",
    "$$\n",
    "\n",
    "Para resolver este sistema de ecuaciones, podemos recurrir a la ayuda de Python."
   ]
  },
  {
   "cell_type": "code",
   "execution_count": null,
   "metadata": {},
   "outputs": [],
   "source": [
    "# Resolviendo el sistema de ecuaciones.\n",
    "# 1.2*alpha1_1 -2.2*alpha_2 =0 ----(1)\n",
    "# 1.1*alpha_1 + 1.4*alpha_2 = 0 ----(2)\n",
    "\n",
    "\n"
   ]
  },
  {
   "cell_type": "markdown",
   "metadata": {},
   "source": [
    "#### conclusion: son linealmente independientes"
   ]
  },
  {
   "cell_type": "markdown",
   "metadata": {},
   "source": [
    "**Otro ejemplo:**\n",
    "$$\\begin{split}x_1\n",
    "=\n",
    "\\left[\n",
    "\\begin{array}{c}\n",
    "    1.2 \\\\\n",
    "1.1 \\\\\n",
    "\\end{array}\n",
    "\\right] \\  \\  \\ x_2 =\n",
    "\\left[\n",
    "\\begin{array}{c}\n",
    "    -2.4 \\\\\n",
    "2.2 \\\\\n",
    "\\end{array}\n",
    "\\right]\\end{split}$$"
   ]
  },
  {
   "cell_type": "code",
   "execution_count": null,
   "metadata": {},
   "outputs": [],
   "source": []
  },
  {
   "cell_type": "code",
   "execution_count": null,
   "metadata": {},
   "outputs": [],
   "source": []
  },
  {
   "cell_type": "code",
   "execution_count": null,
   "metadata": {},
   "outputs": [],
   "source": []
  },
  {
   "cell_type": "markdown",
   "metadata": {},
   "source": [
    "**Otro ejemplo:**\n",
    "$$\\begin{split}x_1\n",
    "=\n",
    "\\left[\n",
    "\\begin{array}{c}\n",
    "    1.2 \\\\\n",
    "1.1 \\\\\n",
    "\\end{array}\n",
    "\\right] \\  \\  \\ x_2 =\n",
    "\\left[\n",
    "\\begin{array}{c}\n",
    "    -2.4 \\\\\n",
    "2.2 \\\\\n",
    "\\end{array}\n",
    "\\right]\\end{split}$$"
   ]
  },
  {
   "cell_type": "code",
   "execution_count": null,
   "metadata": {},
   "outputs": [],
   "source": []
  },
  {
   "cell_type": "markdown",
   "metadata": {},
   "source": [
    "Como podemos ver, tanto por la solución numérica como por la solución gráfica, estos vectores son *linealmente independientes*, ya que la única solución a la ecuación $\\alpha_1 x_1 + \\alpha_2 x_2 + \\dots + \\alpha_n x_n = 0$, es aquella en que los escalares son cero.\n",
    "\n",
    "Determinemos ahora si por ejemplo, los siguientes vectores en $\\mathbb{R}^4$ son *linealmente independientes*: $\\{(3, 2, 2, 3), (3, 2, 1, 2), (3, 2, 0, 1)\\}$. Aquí, ahora deberíamos resolver la siguiente ecuación:\n",
    "\n",
    "$$\\alpha_1 (3, 2, 2, 3) +\\alpha_2 (3, 2, 1, 2) + \\alpha_3 (3, 2, 0, 1) = (0, 0, 0, 0)$$\n",
    "\n",
    "Para resolver este sistema de ecuaciones que no es cuadrado (tiene 4 ecuaciones y solo 3 incógnitas); podemos utilizar [SymPy](http://www.sympy.org/es/)."
   ]
  },
  {
   "cell_type": "code",
   "execution_count": null,
   "metadata": {},
   "outputs": [],
   "source": [
    "#Usando Sympy\n"
   ]
  },
  {
   "cell_type": "code",
   "execution_count": null,
   "metadata": {},
   "outputs": [],
   "source": [
    "# Sympy para resolver el sistema de ecuaciones lineales\n"
   ]
  },
  {
   "cell_type": "code",
   "execution_count": null,
   "metadata": {},
   "outputs": [],
   "source": []
  },
  {
   "cell_type": "code",
   "execution_count": null,
   "metadata": {},
   "outputs": [],
   "source": []
  },
  {
   "cell_type": "code",
   "execution_count": null,
   "metadata": {},
   "outputs": [],
   "source": []
  },
  {
   "cell_type": "markdown",
   "metadata": {},
   "source": [
    "sea a3 = 1, a2=-2, a1=1\n"
   ]
  },
  {
   "cell_type": "markdown",
   "metadata": {},
   "source": [
    "Como vemos, esta solución es *no trivial*, ya que por ejemplo existe la solución $\\alpha_1 = 1, \\ \\alpha_2 = -2 , \\  \\alpha_3 = 1$ en la que los escalares no son ceros. Por lo tanto este sistema es *linealmente dependiente*.\n",
    "\n",
    "**Ejemplo Polinomios**\n",
    "\n",
    "Por último, podríamos considerar si los siguientes [polinomios](https://es.wikipedia.org/wiki/Polinomio) son *linealmente independientes*: $1 -2x -x^2$, $1 + x$, $1 + x + 2x^2$. En este caso, deberíamos resolver la siguiente ecuación:\n",
    "\n",
    "$$\\alpha_1 (1 − 2x − x^2) + \\alpha_2 (1 + x) + \\alpha_3 (1 + x + 2x^2) = 0$$\n",
    "\n",
    "y esta ecuación es equivalente a la siguiente:\n",
    "\n",
    "$$(\\alpha_1 + \\alpha_2 + \\alpha_3 ) + (−2 \\alpha_1 + \\alpha_2 + \\alpha_3 )x + (−\\alpha_1 + 2 \\alpha_2 )x^2 = 0$$\n",
    "\n",
    "Por lo tanto, podemos armar el siguiente sistema de ecuaciones:\n",
    "\n",
    "$$\\alpha_1 + \\alpha_2 + \\alpha_3 = 0, \\\\\n",
    "-2 \\alpha_1 + \\alpha_2 + \\alpha_3 = 0, \\\\\n",
    "-\\alpha_1 + 2 \\alpha_2  = 0.\n",
    "$$\n",
    "\n",
    "El cual podemos nuevamente resolver con la ayuda de SymPy."
   ]
  },
  {
   "cell_type": "code",
   "execution_count": null,
   "metadata": {},
   "outputs": [],
   "source": []
  },
  {
   "cell_type": "code",
   "execution_count": null,
   "metadata": {},
   "outputs": [],
   "source": []
  },
  {
   "cell_type": "markdown",
   "metadata": {},
   "source": [
    "Como vemos, todos los <a href=\"http://es.wikipedia.org/wiki/Escalar_(matem%C3%A1tica)\">escalares</a> son ceros, por lo tanto estos [polinomios](https://es.wikipedia.org/wiki/Polinomio) son *[linealmente independientes](https://es.wikipedia.org/wiki/Dependencia_e_independencia_lineal)*.\n",
    "\n",
    "### Espacio nulo, espacio columna y espacio fila\n",
    "\n",
    "Un termino particularmente relacionado con la independencia lineal es el de <a href=\"https://es.wikipedia.org/wiki/N%C3%BAcleo_(matem%C3%A1tica)\">espacio nulo o núcleo</a>. El espacio nulo de una matriz $A$, el cual lo vamos a expresar como $N(A)$, va a consistir de todas las soluciones a la ecuación fundamental $Ax = 0$. Por supuesto, una solución inmediata a esta ecuación es el caso de $x = 0$, que ya vimos que establece la independencia lineal. Esta solución solo va a ser la única que exista para los casos de matrices invertibles. Pero en el caso de las matrices singulares (aquellas que no son invertibles), que tienen determinante igual a cero), van a existir soluciones que no son cero para la ecuación $Ax = 0$. El conjunto de todas estas soluciones, va a representar el espacio nulo.\n",
    "\n",
    "Para encontrar el espacio nulo también nos podemos ayudar de [SymPy](http://www.sympy.org/es/)."
   ]
  },
  {
   "cell_type": "code",
   "execution_count": null,
   "metadata": {},
   "outputs": [],
   "source": [
    "# Espacio nulo de un matriz\n"
   ]
  },
  {
   "cell_type": "code",
   "execution_count": null,
   "metadata": {},
   "outputs": [],
   "source": [
    "# Calculando el espacio nulo\n"
   ]
  },
  {
   "cell_type": "code",
   "execution_count": null,
   "metadata": {},
   "outputs": [],
   "source": []
  },
  {
   "cell_type": "code",
   "execution_count": null,
   "metadata": {},
   "outputs": [],
   "source": [
    "# Comprobando la solución\n"
   ]
  },
  {
   "cell_type": "code",
   "execution_count": null,
   "metadata": {},
   "outputs": [],
   "source": [
    "# Comprobación con numpy\n"
   ]
  },
  {
   "cell_type": "markdown",
   "metadata": {},
   "source": [
    "#### Espacio Columna\n",
    "Otro espacio de suma importancia es el [espacio columna](https://es.wikipedia.org/wiki/Subespacios_fundamentales_de_una_matriz). El espacio columna, $C(A)$, consiste en todas las [combinaciones lineales](https://es.wikipedia.org/wiki/Combinaci%C3%B3n_lineal) de las columnas de una matriz $A$. Estas combinaciones son los posibles vectores $Ax$. Este espacio es fundamental para resolver la ecuación $Ax = b$; ya que para resolver esta ecuación debemos expresar a $b$ como una combinación de columnas. El sistema $Ax = b$, va a tener solución solamente si $b$ esta en el espacio columna de $A$. Como las matrices tienen la forma $m \\times n$, sus columnas tienen $m$ componentes ($n$ son las filas). Por lo tanto el espacio columna es un *subespacio* de $\\mathbb{R}^m$ y no $\\mathbb{R}^n$.\n",
    "\n",
    "Por último, el otro espacio que conforma los [espacios fundamentales](https://es.wikipedia.org/wiki/Subespacios_fundamentales_de_una_matriz) de una matriz, es el [espacio fila](https://es.wikipedia.org/wiki/Subespacios_fundamentales_de_una_matriz), el cual esta constituido por las [combinaciones lineales](https://es.wikipedia.org/wiki/Combinaci%C3%B3n_lineal) de las filas de una matriz.\n",
    "\n",
    "Para obtener estos espacios, nuevamente podemos recurrir a [SymPy](http://www.sympy.org/es/). Para poder obtener estos espacios, primero vamos a tener que obtener la [forma escalonada](https://es.wikipedia.org/wiki/Matriz_escalonada) de la matriz, la cual es la forma a la que arribamos luego del proceso de [eliminación](https://es.wikipedia.org/wiki/Eliminaci%C3%B3n_de_Gauss-Jordan)."
   ]
  },
  {
   "cell_type": "code",
   "execution_count": null,
   "metadata": {},
   "outputs": [],
   "source": [
    "A = sym.Matrix([[2,-3,-8,7],\n",
    "                [-2,-1,2,-7],\n",
    "                [1,0,-3,6]])\n",
    "A"
   ]
  },
  {
   "cell_type": "code",
   "execution_count": null,
   "metadata": {},
   "outputs": [],
   "source": [
    "# A.rref() forma escalonada.\n"
   ]
  },
  {
   "cell_type": "code",
   "execution_count": null,
   "metadata": {},
   "outputs": [],
   "source": [
    "# Espacio columna\n"
   ]
  },
  {
   "cell_type": "code",
   "execution_count": null,
   "metadata": {},
   "outputs": [],
   "source": [
    "# Espacio fila\n"
   ]
  },
  {
   "cell_type": "markdown",
   "metadata": {},
   "source": [
    "## Rango\n",
    "\n",
    "Otro concepto que también esta ligado a la [independencia lineal](https://es.wikipedia.org/wiki/Dependencia_e_independencia_lineal) es el de <a href=\"https://es.wikipedia.org/wiki/Rango_(%C3%A1lgebra_lineal)\">rango</a>. Los números de columnas $m$ y filas $n$ pueden darnos el tamaño de una matriz, pero esto no necesariamente representa el verdadero tamaño del [sistema lineal](https://es.wikipedia.org/wiki/Sistema_de_ecuaciones_lineales), ya que por ejemplo si existen dos filas iguales en una matriz $A$, la segunda fila desaparecía en el proceso de [eliminación](https://es.wikipedia.org/wiki/Eliminaci%C3%B3n_de_Gauss-Jordan). El verdadero tamaño de $A$ va a estar dado por su rango. El rango de una matriz es el número máximo de columnas (filas respectivamente) que son [linealmente independientes](https://es.wikipedia.org/wiki/Dependencia_e_independencia_lineal). Por ejemplo si tenemos la siguiente matriz de 3 x 4:\n",
    "\n",
    "$$A = \\begin{bmatrix}1 & 1 & 2 & 4\\\\1 & 2 & 2 & 5\n",
    "\\\\ 1 & 3 & 2 & 6\\end{bmatrix}$$\n",
    "\n",
    "Podemos ver que la tercer columna $(2, 2, 2)$ es un múltiplo de la primera y que la cuarta columna $(4, 5, 6)$ es la suma de las primeras 3 columnas. Por tanto el rango de $A$ va a ser igual a 2; ya que la tercer y cuarta columna pueden ser eliminadas.\n",
    "\n",
    "Obviamente, el rango también lo podemos calcular con la ayuda de Python."
   ]
  },
  {
   "cell_type": "code",
   "execution_count": null,
   "metadata": {},
   "outputs": [],
   "source": [
    "# Calculando el rango con SymPy\n",
    "A = sym.Matrix([[1,1,2,4],\n",
    "                [1,2,2,5],\n",
    "                [1,3,2,6]])\n",
    "A"
   ]
  },
  {
   "cell_type": "code",
   "execution_count": null,
   "metadata": {},
   "outputs": [],
   "source": [
    "# Rango con SymPy\n"
   ]
  },
  {
   "cell_type": "code",
   "execution_count": null,
   "metadata": {},
   "outputs": [],
   "source": [
    "# Rango con numpy\n"
   ]
  },
  {
   "cell_type": "code",
   "execution_count": null,
   "metadata": {},
   "outputs": [],
   "source": []
  },
  {
   "cell_type": "markdown",
   "metadata": {},
   "source": [
    "Una útil aplicación de calcular el rango de una matriz es la de determinar el número de soluciones al [sistema de ecuaciones lineales](https://es.wikipedia.org/wiki/Sistema_de_ecuaciones_lineales), de acuerdo al enunciado del [Teorema de Rouché–Frobenius](https://es.wikipedia.org/wiki/Teorema_de_Rouch%C3%A9%E2%80%93Frobenius). El sistema tiene por lo menos una solución si el rango de la matriz de coeficientes equivale al rango de la [matriz aumentada](https://es.wikipedia.org/wiki/Matriz_aumentada). En ese caso, ésta tiene exactamente una solución si el rango equivale al número de incógnitas.\n",
    "\n",
    "## La norma y la Ortogonalidad\n",
    "\n",
    "Si quisiéramos saber cual es el *largo* del un [vector](http://es.wikipedia.org/wiki/Vector), lo único que necesitamos es el famoso [teorema de Pitágoras](https://es.wikipedia.org/wiki/Teorema_de_Pit%C3%A1goras). En el plano $\\mathbb{R}^2$, el *largo* de un vector $v=\\begin{bmatrix}a \\\\ b \\end{bmatrix}$ va a ser igual a la distancia desde el origen $(0, 0)$ hasta el punto $(a, b)$. Esta distancia puede ser fácilmente calculada gracias al teorema de Pitágoras y va ser igual a $\\sqrt{a^2 + b^2}$, como se puede ver en la siguiente figura:"
   ]
  },
  {
   "cell_type": "code",
   "execution_count": null,
   "metadata": {},
   "outputs": [],
   "source": [
    "# Calculando largo de un vector\n",
    "# forma un triángulo rectángulo\n",
    "ax = move_spines()\n",
    "ax.set_xlim(-6,6)\n",
    "ax.set_ylim(-6,6)\n",
    "ax.grid()\n",
    "\n",
    "v = np.array([4,6])\n",
    "vect_fig(v,'blue')\n",
    "\n"
   ]
  },
  {
   "cell_type": "markdown",
   "metadata": {},
   "source": [
    "En esta definición podemos observar que $a^2 + b^2 = v \\cdot v$, por lo que ya estamos en condiciones de poder definir lo que en Álgebra lineal se conoce como norma.\n",
    "\n",
    "La [norma](https://es.wikipedia.org/wiki/Norma_vectorial) de un vector $v = \\begin{bmatrix} v_1 \\\\ v_2 \\\\ \\vdots \\\\ v_n \\end{bmatrix}$, en $\\mathbb{R}^n$ va a ser igual a un número no negativo $||v||$ definido por:\n",
    "\n",
    "$$||v|| = \\sqrt{v \\cdot v} = \\sqrt{v_1^2 + v_2^2 + \\dots + v_n^2}$$\n",
    "\n",
    "Es decir que la norma de un vector va a ser igual a la raíz cuadrada de la suma de los cuadrados de sus componentes.\n",
    "\n",
    "### Ortogonalidad\n",
    "\n",
    "El concepto de [perpendicularidad](https://es.wikipedia.org/wiki/Perpendicularidad) es fundamental en [geometría](https://es.wikipedia.org/wiki/Geometr%C3%ADa). Este concepto llevado a los vectores en $\\mathbb{R}^n$ se llama <a href=\"https://es.wikipedia.org/wiki/Ortogonalidad_(matem%C3%A1ticas)\">ortogonalidad</a>.\n",
    "\n",
    "Dos vectores $v$ y $w$ en $\\mathbb{R}^n$ van a ser <a href=\"https://es.wikipedia.org/wiki/Ortogonalidad_(matem%C3%A1ticas)\">ortogonales</a> el uno al otro si su [producto interior](https://es.wikipedia.org/wiki/Producto_escalar) es igual a cero. Es decir, $v \\cdot w = 0$.\n",
    "\n",
    "Geométricamente lo podemos ver de la siguiente manera:"
   ]
  },
  {
   "cell_type": "code",
   "execution_count": null,
   "metadata": {},
   "outputs": [],
   "source": [
    "ax = move_spines()\n",
    "ax.set_xlim(-6,6)\n",
    "ax.set_ylim(-6,6)\n",
    "ax.grid()\n",
    "\n",
    "vecs = [np.array([4,6]), np.array([-3,2])]\n",
    "for v in vecs:\n",
    "    vect_fig(v,'blue')"
   ]
  },
  {
   "cell_type": "code",
   "execution_count": null,
   "metadata": {},
   "outputs": [],
   "source": [
    "# comprobando su producto interior.\n"
   ]
  },
  {
   "cell_type": "markdown",
   "metadata": {},
   "source": [
    "Un conjunto de vectores en $\\mathbb{R}^n$ va a ser ortogonal si todo los pares de los distintos vectores en el conjunto son ortogonales entre sí. Osea:\n",
    "\n",
    "$v_i \\cdot v_j = 0$ para todo $i, j = 1, 2, \\dots, k$ y donde $i \\ne j$.\n",
    "\n",
    "Por ejemplo, si tenemos el siguiente [conjunto](http://relopezbriega.github.io/blog/2015/10/11/conjuntos-con-python/) de vectores en $\\mathbb{R}^3$:\n",
    "\n",
    "$$v1 = \\begin{bmatrix} 2 \\\\ 1 \\\\ -1\\end{bmatrix} \\ \n",
    "v2 = \\begin{bmatrix} 0 \\\\ 1 \\\\ 1\\end{bmatrix} \\\n",
    "v3 = \\begin{bmatrix} 1 \\\\ -1 \\\\ 1\\end{bmatrix}$$\n",
    "\n",
    "En este caso, deberíamos combrobar que:\n",
    "\n",
    "$$v1 \\cdot v2 = 0 \\\\\n",
    "v2 \\cdot v3 = 0 \\\\\n",
    "v1 \\cdot v3 = 0 $$"
   ]
  },
  {
   "cell_type": "code",
   "execution_count": null,
   "metadata": {},
   "outputs": [],
   "source": [
    "# comprobando ortogonalidad del conjunto\n"
   ]
  },
  {
   "cell_type": "markdown",
   "metadata": {},
   "source": [
    "Como vemos, este conjunto es ortogonal. Una de las principales ventajas de trabajar con conjuntos de vectores ortogonales es que los mismos son necesariamente linealmente independientes.\n",
    "\n",
    "El concepto de ortogonalidad es uno de los más importantes y útiles en Álgebra lineal y surge en muchas situaciones prácticas, sobre todo cuando queremos calcular distancias.\n",
    "\n",
    "## Determinante\n",
    "\n",
    "El determinante es un número especial que puede calcularse sobre las matrices cuadradas. Este número nos va a decir muchas cosas sobre la matriz. Por ejemplo, nos va decir si la matriz es invertible o no. Si el determinante es igual a cero, la matriz no es invertible. Cuando la matriz es invertible, el determinante de $A^{-1}= 1/(\\det \\ A)$. El determinante también puede ser útil para calcular áreas.\n",
    "\n",
    "Para obtener el determinante de una matriz debemos calcular la suma de los productos de las diagonales de la matriz en una dirección menos la suma de los productos de las diagonales en la otra dirección. Se represente con el símbolo $|A|$ o $\\det A$.\n",
    "\n",
    "Algunas de sus propiedades que debemos tener en cuenta son:\n",
    "\n",
    "> a. El determinante de la matriz identidad es igual a 1. $\\det I = 1$.\n",
    "\n",
    "> b. Una matriz $A$ es *singular* (no tiene inversa) si su determinante es igual a cero. \n",
    "\n",
    "> c. El determinante cambia de signo cuando dos columnas(o filas) son intercambiadas.\n",
    "\n",
    "> d. Si dos filas de una matriz $A$ son iguales, entonces el determinante es cero.\n",
    "\n",
    "> e. Si alguna fila de la matriz $A$ son todos ceros, entonces el determinante es cero.\n",
    "\n",
    "> f. La [matriz transpuesta](http://es.wikipedia.org/wiki/Matriz_transpuesta) $A^T$, tiene el mismo determinante que $A$.\n",
    "\n",
    "> g. El determinante de $AB$ es igual al determinante de $A$ multiplicado por el determinante de $B$. $\\det (AB) = \\det A \\cdot \\det B$.\n",
    "\n",
    "> h. El determinante es una [función lineal](https://es.wikipedia.org/wiki/Funci%C3%B3n_lineal) de cada una de las filas en forma separada. Si multiplicamos solo una fila por $\\alpha$, entonces el determinante también es multiplicado por $\\alpha$.\n",
    "\n",
    "Veamos como podemos obtener el determinante con la ayuda de Python. "
   ]
  },
  {
   "cell_type": "code",
   "execution_count": null,
   "metadata": {},
   "outputs": [],
   "source": [
    "# Determinante con sympy\n",
    "A = sym.Matrix([[1,2,3],\n",
    "               [2,-2,4],\n",
    "               [2,2,5]])\n",
    "A"
   ]
  },
  {
   "cell_type": "code",
   "execution_count": null,
   "metadata": {},
   "outputs": [],
   "source": [
    "# Determinante con numpy\n"
   ]
  },
  {
   "cell_type": "code",
   "execution_count": null,
   "metadata": {},
   "outputs": [],
   "source": [
    "# Determinante como funcion lineal de fila\n"
   ]
  },
  {
   "cell_type": "code",
   "execution_count": null,
   "metadata": {},
   "outputs": [],
   "source": [
    "# cambio de signo de determinante\n"
   ]
  },
  {
   "cell_type": "code",
   "execution_count": null,
   "metadata": {},
   "outputs": [],
   "source": []
  },
  {
   "cell_type": "code",
   "execution_count": null,
   "metadata": {},
   "outputs": [],
   "source": []
  },
  {
   "cell_type": "code",
   "execution_count": null,
   "metadata": {},
   "outputs": [],
   "source": [
    "# propiedad f) det(A) = det(A^T)\n"
   ]
  },
  {
   "cell_type": "code",
   "execution_count": null,
   "metadata": {},
   "outputs": [],
   "source": []
  },
  {
   "cell_type": "code",
   "execution_count": null,
   "metadata": {},
   "outputs": [],
   "source": []
  },
  {
   "cell_type": "code",
   "execution_count": null,
   "metadata": {},
   "outputs": [],
   "source": [
    "# det(A^-1) = 1/det(A)\n"
   ]
  },
  {
   "cell_type": "markdown",
   "metadata": {},
   "source": [
    "## Eigenvalores y Eigenvectores\n",
    "Cuando estamos resolviendo ecuaciones lineales del tipo $Ax = b$, estamos trabajando con problemas *estáticos*. ¿Pero qué pasa si quisiéramos trabajar con problemas *dinámicos*?. Es en este tipo de situaciones donde los [Eigenvalores y Eigenvectores](https://es.wikipedia.org/wiki/Vector_propio_y_valor_propio) tienen su mayor importancia.\n",
    "\n",
    "Supongamos que tenemos una matriz cuadrada $A$ de $n \\times n$. Una pregunta natural que nos podríamos hacer sobre $A$ es: ¿Existe algún vector $x$ distinto de cero para el cual $Ax$ es un escalar</a> múltiplo de $x$?. Si llevamos esta pregunta al lenguaje matemático nos vamos a encontrar con la siguiente ecuación:\n",
    "\n",
    "$$Ax = \\lambda x$$\n",
    "\n",
    "Cuando esta ecuación es válida y $x$ no es cero, decimos que $\\lambda$ es el Eigenvalor o valor propio de $A$ y $x$ es su correspondiente Eigenvector o vector propio.\n",
    "\n",
    "Muchos problemas en ciencia derivan en problemas de Eigenvalores, en los cuales la principal pregunta es: ¿Cuáles son los Eigenvalores de una matriz</a> dada, y cuáles son sus correspondientes Eigenvectores. Un área donde nos va a ser de mucha utilidad esta teoría, es en problemas con sistemas de [ecuaciones diferenciales lineales](https://es.wikipedia.org/wiki/Ecuaci%C3%B3n_diferencial_lineal).\n",
    "\n",
    "### Calculando Eigenvalores \n",
    "\n",
    "Hasta aquí todo muy bien, pero dada una matriz cuadrada $A$ de $n \\times n$, ¿cómo podemos obtener sus Eigenvalores?. \n",
    "\n",
    "Podemos comenzar por observar que la ecuación $Ax = \\lambda x$ es equivalente a $(A - \\lambda I)x = 0$. Dado que estamos interesados en soluciones a esta ecuación que sean distintas de cero, la matriz</a> $A - \\lambda I$ debe ser *singular*, no invertible, por lo tanto su determinante</a> debe ser cero, $\\det (A - \\lambda I) = 0$. De esta forma, podemos utilizar esta ecuación para encontrar los Eigenvalores de $A$. Particularmente, podríamos formar el [polinomio característico](https://es.wikipedia.org/wiki/Polinomio_caracter%C3%ADstico) de la matriz</a> $A$, el cual va a tener *grado* $n$ y por lo tanto va a tener $n$ soluciones, es decir que vamos a encontrar $n$ Eigenvalores. \n",
    "Algo que debemos tener en cuenta es, que a pesar de que la matriz</a> $A$ sea [real](https://es.wikipedia.org/wiki/N%C3%BAmero_real), debemos estar preparados para encontrar Eigenvalores que sean complejos.\n",
    "\n",
    "Para que quede más claro, veamos un ejemplo de como podemos calcular los Eigenvalores. Supongamos que tenemos la siguiente matriz</a>:\n",
    "\n",
    "$$A = \\begin{bmatrix} 3 & 2 \\\\ 7 & -2 \\end{bmatrix}$$\n",
    "\n",
    "Su [polinomio característico](https://es.wikipedia.org/wiki/Polinomio_caracter%C3%ADstico) va a ser igual a:\n",
    "\n",
    "$$p(\\lambda) = \\det (A - \\lambda I) = \\det \\begin{bmatrix}3 - \\lambda & 2 \\\\ 7  & -2-\\lambda\\end{bmatrix} = (3 - \\lambda)(-2-\\lambda) - 14  \\\\ =\\lambda^2 - \\lambda - 20 = (\\lambda - 5) (\\lambda + 4)$$\n",
    "\n",
    "Por lo tanto los Eigenvalores de $A$ van a ser $5$ y $-4$.\n",
    "\n",
    "Obviamente, también los podemos obtener mucho más fácilmente con la ayuda de Python."
   ]
  },
  {
   "cell_type": "code",
   "execution_count": null,
   "metadata": {},
   "outputs": [],
   "source": [
    "# Eigenvalores con numpy\n"
   ]
  },
  {
   "cell_type": "code",
   "execution_count": null,
   "metadata": {},
   "outputs": [],
   "source": [
    "# Eigenvalores con SymPy\n"
   ]
  },
  {
   "cell_type": "code",
   "execution_count": null,
   "metadata": {},
   "outputs": [],
   "source": [
    "# Eigenvector\n"
   ]
  },
  {
   "cell_type": "code",
   "execution_count": null,
   "metadata": {},
   "outputs": [],
   "source": [
    "# comprobando la solución Ax = λx\n",
    "# x eigenvector, v eigenvalue\n"
   ]
  },
  {
   "cell_type": "code",
   "execution_count": null,
   "metadata": {},
   "outputs": [],
   "source": [
    "# (𝐴−𝜆𝐼)𝑥 = 0\n",
    "\n",
    "# 𝜆1 = 5\n",
    "# (A -5I)x = 0\n",
    "# [[-2, 2  ] [a1]  [0]\n",
    "# [7,-7]] [b1] = [0] \n",
    "# Ax=0\n",
    "# \n",
    "\n"
   ]
  },
  {
   "cell_type": "code",
   "execution_count": null,
   "metadata": {},
   "outputs": [],
   "source": []
  },
  {
   "cell_type": "markdown",
   "metadata": {},
   "source": [
    "#### Tarea 1:\n"
   ]
  },
  {
   "cell_type": "code",
   "execution_count": null,
   "metadata": {},
   "outputs": [],
   "source": []
  }
 ],
 "metadata": {
  "kernelspec": {
   "display_name": "Python 3 (ipykernel)",
   "language": "python",
   "name": "python3"
  },
  "language_info": {
   "codemirror_mode": {
    "name": "ipython",
    "version": 3
   },
   "file_extension": ".py",
   "mimetype": "text/x-python",
   "name": "python",
   "nbconvert_exporter": "python",
   "pygments_lexer": "ipython3",
   "version": "3.12.7"
  }
 },
 "nbformat": 4,
 "nbformat_minor": 4
}
