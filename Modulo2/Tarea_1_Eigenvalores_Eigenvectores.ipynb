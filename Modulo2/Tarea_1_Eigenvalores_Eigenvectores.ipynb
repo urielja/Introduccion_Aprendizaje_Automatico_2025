{
 "cells": [
  {
   "cell_type": "markdown",
   "id": "66ace54d",
   "metadata": {},
   "source": [
    "<img style=\"float: left;;\" src='Figures/alinco.png' /></a>\n",
    "    \n",
    "# <center> <font color= #000047> Tarea 1: Eigenvectores y Eigenvalores</font>\n",
    "___\n",
    "\n",
    "Esta tarea consiste en calcular eigenvalores y eigenvectores de matrices siguiendo el calculo a mano, usando la librería numpy y sympy.\n",
    "\n",
    "Los eigenvalores y eigenvectores son conceptos fundamentales en álgebra lineal y tienen aplicaciones en machine learning, física, ingeniería y más."
   ]
  },
  {
   "cell_type": "code",
   "execution_count": null,
   "id": "c12e2314",
   "metadata": {},
   "outputs": [],
   "source": [
    "import numpy as np"
   ]
  },
  {
   "cell_type": "markdown",
   "id": "5128eaf8",
   "metadata": {},
   "source": [
    "**1. Calcula los eigenvalores y eigenvectores de la siguiente matriz:**\n",
    "\n",
    "$$A = \\begin{bmatrix} 4 & 2 \\\\ 1 & 3 \\end{bmatrix}$$"
   ]
  },
  {
   "cell_type": "code",
   "execution_count": null,
   "id": "28f94ec6",
   "metadata": {},
   "outputs": [],
   "source": []
  },
  {
   "cell_type": "markdown",
   "id": "50ab9c3b",
   "metadata": {},
   "source": [
    "**2. Calcula los eigenvalores y eigenvectores de la siguiente matriz:**\n",
    "\n",
    "$$B = \\begin{bmatrix} 2 & 0 \\\\ 0 & 5 \\end{bmatrix}$$"
   ]
  },
  {
   "cell_type": "code",
   "execution_count": null,
   "id": "5703abf0",
   "metadata": {},
   "outputs": [],
   "source": []
  },
  {
   "cell_type": "markdown",
   "id": "a5d8abb6",
   "metadata": {},
   "source": [
    "**3. Eigenvalores y eigenvectores de una matriz 3x3**\n",
    "\n",
    "Calcula los eigenvalores y eigenvectores de la siguiente matriz:\n",
    "\n",
    "$$C = \\begin{bmatrix} 1 & 2 & 3 \\\\ 0 & 4 & 5 \\\\ 0 & 0 & 6 \\end{bmatrix}$$"
   ]
  },
  {
   "cell_type": "code",
   "execution_count": null,
   "id": "dc150e72",
   "metadata": {},
   "outputs": [],
   "source": []
  },
  {
   "cell_type": "markdown",
   "id": "61642ded",
   "metadata": {},
   "source": [
    "**4. Calcula los eigenvalores y eigenvectores de la siguiente matriz:**\n",
    "\n",
    "$$D = \\begin{bmatrix} 0 & 1 \\\\ -2 & -3 \\end{bmatrix}$$"
   ]
  },
  {
   "cell_type": "code",
   "execution_count": null,
   "id": "ab5dd7b2",
   "metadata": {},
   "outputs": [],
   "source": []
  },
  {
   "cell_type": "markdown",
   "id": "3843108c",
   "metadata": {},
   "source": [
    "**5. Crea una matriz cuadrada aleatoria de tamaño 4x4 y calcula sus eigenvalores y eigenvectores.**"
   ]
  },
  {
   "cell_type": "code",
   "execution_count": null,
   "id": "842434ad",
   "metadata": {},
   "outputs": [],
   "source": []
  }
 ],
 "metadata": {
  "kernelspec": {
   "display_name": "Python 3 (ipykernel)",
   "language": "python",
   "name": "python3"
  },
  "language_info": {
   "codemirror_mode": {
    "name": "ipython",
    "version": 3
   },
   "file_extension": ".py",
   "mimetype": "text/x-python",
   "name": "python",
   "nbconvert_exporter": "python",
   "pygments_lexer": "ipython3",
   "version": "3.12.7"
  }
 },
 "nbformat": 4,
 "nbformat_minor": 5
}
