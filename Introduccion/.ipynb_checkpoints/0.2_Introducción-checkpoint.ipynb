{
 "cells": [
  {
   "cell_type": "markdown",
   "metadata": {},
   "source": [
    "<img style=\"float: left;;\" src='Figures/alinco.png' /></a>\n",
    "    \n",
    "# <center> <font color= #000047> Introducción.</font>\n",
    "___"
   ]
  },
  {
   "cell_type": "markdown",
   "metadata": {
    "colab_type": "text",
    "id": "Yz4FWlrkLqbg"
   },
   "source": [
    "## Introducción\n",
    "\n",
    "A lo largo del curso trabajaremos con Python. Python es un lenguaje de software libre, no tipado, interpretado y orientado a objetos. Se presenta como principal elección entre los lenguajes utilizados para aplicaciones de inteligencia artificial, particularmente de machine learning, junto con R, Matlab y Octave (dependiendo la comunidad que lo use).\n",
    "\n",
    "Posee un enorme ecosistema de librerías de machine learning. Esto sumado a su flexibilidad y su simpleza de uso hacen que sea uno de los lenguajes más populares para la computación científica.\n",
    "\n",
    "Algunos IDEs: Jupyter (web), Pycharm, Rodeo.\n"
   ]
  },
  {
   "cell_type": "markdown",
   "metadata": {
    "colab_type": "text",
    "id": "F_UlokHsLqbx"
   },
   "source": [
    "Info adicional:\n",
    "\n",
    "* [Markdown](https://daringfireball.net/projects/markdown/) es un conversor de texto plano a HTML. En los notebooks funciona como suerte de versión \"liviana\" de LaTex. Se usa en sitios como Slack, github (para los README), reddit.\n",
    "* [LaTex](http://www.latex-project.org/) es un sistema de tipografía de alta calidad, que permite armar documentos con una sintaxis predefinida. Su sintaxis es mucho más verborrágica comparado con las herramientas típicas de ofimática, pero es mucho más flexible. A LaTex en los notebooks se lo utiliza principalmente para fórmulas.\n",
    "\n",
    "Info adicional sobre LaTex, para aquellos interesados:\n",
    "* Para armar documentos completos en LaTex de forma sencilla una buena alternativa es [Overleaf](https://www.overleaf.com/) (editor LaTex Web colaborativo). Por su parte, la alternativa que recomendamos es descargarlo mediante TexLive (en Debian/Ubuntu/Mint lo descargan con *sudo apt-get install texlive-full* (pesa 4Gb)) y editar los documentos mediante [Atom](http://atom.io/) y sus paquetes *latex* y *language-latex*"
   ]
  },
  {
   "cell_type": "markdown",
   "metadata": {
    "colab_type": "text",
    "id": "WrwFOXyeLqb5"
   },
   "source": [
    "Para sus explicaciones en texto, jupyter por defecto utiliza Markdown. Para utilizar LaTex en un notebook, debe encerrarse la sentencia en \\\\$ ecuación \\\\$ para ecuaciones en la misma línea o bien entre \\\\$\\\\$ ecuación \\\\$\\\\$ para ecuaciones en una nueva línea.\n",
    "\n",
    "Ejemplo $$\\lim_{h \\to 0} \\frac{f(a+h)-f(a)}{h}$$"
   ]
  },
  {
   "cell_type": "code",
   "execution_count": null,
   "metadata": {},
   "outputs": [],
   "source": []
  }
 ],
 "metadata": {
  "anaconda-cloud": {},
  "colab": {
   "include_colab_link": true,
   "name": "2. Intro a Python para Inteligencia Artificial.ipynb",
   "provenance": []
  },
  "kernelspec": {
   "display_name": "Python 3 (ipykernel)",
   "language": "python",
   "name": "python3"
  },
  "language_info": {
   "codemirror_mode": {
    "name": "ipython",
    "version": 3
   },
   "file_extension": ".py",
   "mimetype": "text/x-python",
   "name": "python",
   "nbconvert_exporter": "python",
   "pygments_lexer": "ipython3",
   "version": "3.12.7"
  }
 },
 "nbformat": 4,
 "nbformat_minor": 4
}
