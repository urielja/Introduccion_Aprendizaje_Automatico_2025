{
 "cells": [
  {
   "cell_type": "markdown",
   "metadata": {},
   "source": [
    "<img style=\"float: left;;\" src='Figures/alinco.png' /></a>\n",
    "    \n",
    "# <center> <font color= #000047> Inttroducción al Aprendizaje Automático.</font>"
   ]
  },
  {
   "cell_type": "markdown",
   "metadata": {},
   "source": [
    "___\n",
    "\n",
    "\n",
    "\n",
    "#### <font color= #2E9AFE>  `Viernes (17:00 a 21:00 hrs) Sábados (9:00 a 13:00 hrs)  (Virtual)` </font>\n",
    "\n",
    "- <Strong> Gaddiel Desirena López </Strong>\n",
    "- <Strong> Año </Strong>: 2025\n",
    "\n",
    "- <Strong> Email: </Strong>  <font color=\"blue\"> `gdesirena@gmail.com` </font>\n",
    "\n",
    "cel: 3316027392\n",
    "___"
   ]
  },
  {
   "cell_type": "markdown",
   "metadata": {},
   "source": [
    "### `Presentación mía`\n",
    "___"
   ]
  },
  {
   "cell_type": "markdown",
   "metadata": {},
   "source": [
    "### `Presentación de ustedes`\n",
    "___"
   ]
  },
  {
   "cell_type": "markdown",
   "metadata": {},
   "source": [
    "### `Algunas reglas de juego`\n",
    "\n",
    "- La regla más importante: todas las entregas se realizan a través de la plataforma de ALINNCO los plazos asignados.\n",
    "- Descansos por sesiones de 30min approx (17.00 - 19.00 hrs, 19.30 - 21.00 hrs)\n",
    "- Primera parte de sesiones (contenido de clase, teoría, ejemplos, etc..)\n",
    "- Segunda parte de sesiones (Ejercicios y Actividades guiadas)"
   ]
  },
  {
   "cell_type": "markdown",
   "metadata": {},
   "source": [
    "### `Horario de asesoría`\n",
    "\n",
    "Miércoles 18:00 hrs, otros días: **Escribirme mensaje/correo con anticipación para coordinarnos**\n",
    "\n",
    "- Grupo de Whatsapp para coordinar asesorias o temas relacionados a la materia\n",
    "___"
   ]
  },
  {
   "cell_type": "code",
   "execution_count": null,
   "metadata": {},
   "outputs": [],
   "source": []
  },
  {
   "cell_type": "markdown",
   "metadata": {},
   "source": [
    "### `Descripción de la asignatura`\n",
    "\n",
    "Una de las ramas de estudio que cada vez esta ganando más popularidad dentro de las [ciencias de la computación](https://es.wikipedia.org/wiki/Ciencias_de_la_computaci%C3%B3n) es el ***aprendizaje automático*** o ***[Machine Learning](https://es.wikipedia.org/wiki/Aprendizaje_autom%C3%A1tico)***. Muchos de los servicios que utilizamos en nuestro día a día como google, gmail, netflix, spotify o amazon se valen de las herramientas que les brinda el [Machine Learning](https://es.wikipedia.org/wiki/Aprendizaje_autom%C3%A1tico) para alcanzar un servicio cada vez más personalizado y lograr así ventajas competitivas sobre sus rivales. \n",
    "\n",
    "Debido a nuevas tecnologías de cómputo, hoy día el Aprendizaje automático no es como el del pasado, nació del reconocimiento de patrones y de la teoría que dice que las computadoras pueden aprender sin ser programadas para realizar tareas específicas. El aspecto iterativo del Aprendizaje automático es importante porque a medida que los modelos son expuestos a nuevos datos, éstos pueden adaptarse de forma independiente aprenden de cálculos previos para producir decisiones y resultados confiables y repetibles. Es una ciencia que no es nueva pero que ha cobrado un nuevo impulso.\n",
    "\n",
    "Esta asignatura se enfoca en conceptos introductorios de Aprendizaje Automático para cubrir conocimientos y habilidades sobre Algebra lineal como espacios vectoriales, regresión lineal y conceptos introductorios de algoritmos de aprendizaje máquina como redes neuronales.\n"
   ]
  },
  {
   "cell_type": "markdown",
   "metadata": {},
   "source": [
    "#### `OBJETIVO  `\n",
    ">  <p style='text-align: justify;'> Presentar una introducción al aprendizaje automático, tales como algebra lineal, regresión lineal y redes neuronales artificiales.</p>\n",
    "\n",
    "___"
   ]
  },
  {
   "cell_type": "markdown",
   "metadata": {},
   "source": [
    "### `CONTENIDO TEMÁTICO`"
   ]
  },
  {
   "cell_type": "markdown",
   "metadata": {},
   "source": [
    "# Introducción al Aprendizaje Automático\n",
    "\n",
    "`Introducción.` **Introducción**\n",
    "\n",
    "    1. Introducción\n",
    "    2. Contenido temático y guia de Aprendizaje \n",
    "    2. Herramientas computacionales\n",
    "\n",
    "`Módulo 1.` **Aprendizaje Automático**\n",
    "\n",
    "       1. Definición de Aprendizaje\n",
    "       2. Paradigmas del Aprendizaje\n",
    "       3. Aplicaciones de Aprendizaje Automático\n",
    "       4. Introducción a Python\n",
    "          - Librerías de Python para manejo de datos (Numpy, matplotlib, Pandas)\n",
    "   \n",
    "`Módulo 2.` **Matemáticasy algoritmos para el Aprendizaje Automático**\n",
    "\n",
    "       1. Espacios vectoriales\n",
    "       2. Independencia Lineal\n",
    "       3. Base y Rango\n",
    "       4. Mapeos Lineales\n",
    "       5. Regresores lineales\n",
    "       6. Clasificadores Lineales\n",
    "       7. Programación Lineal\n",
    "       8. Introducción a algoritmos de Aprendizaje Automático\n",
    "   \n",
    "`Módulo 3.`  **Introducción a las Redes Neuronales**\n",
    "\n",
    "       1. Redes Neuronales Artificiales\n",
    "       2. Neurona\n",
    "          - Perceptrón"
   ]
  },
  {
   "cell_type": "markdown",
   "metadata": {},
   "source": [
    "### `Evaluación`\n",
    "\n",
    "- Tareas 30%\n",
    "- Actividades 30%\n",
    "- Evaluación Final 40%"
   ]
  },
  {
   "cell_type": "markdown",
   "metadata": {},
   "source": [
    "### `Bibliografía `"
   ]
  },
  {
   "cell_type": "markdown",
   "metadata": {},
   "source": [
    "\n",
    "```\n",
    "1.  https://www.python.org/\n",
    "\n",
    "2.  https://www.kaggle.com/learn\n",
    "\n",
    "3. Python for Scientists by Stewart, John M.\n",
    "\n",
    "4. MACKAY, D. J.C. Information Theory, Inference, and Learning Algorithms. Cambridge: Cambridge University Press, 2003. 640 pp. (Cuarta impresión, versión 7.2)\n",
    "\n",
    "5. DEISENROTH, M. P., Aldo Faisal, and Cheng Soon Ong. Mathematics for Machine Learning. Published by Cambridge University Press. 2020. On line ISBN: 9781108679930\n",
    "\n",
    "6. BISHOP, C. M. Pattern Recognition and Machine Learning. Singapore: Springer, 2006. 758 pp. ISBN-10: 0-387-31073-8\n",
    "\n",
    "7. MOHRI, M., A. Rostamizadeh, and A. Talwalkar. Foundations of Machine Learning. Cambridge: The MIT Press, 2012. 427 pp. ISBN 978-0-262-01825-8\n",
    "\n",
    "8. SHALEV-SHWARTZ, S. and S. Ben-David. Understanding Machine Learning. From Theory to Algorithms. Cambridge: Cambridge University Press, 2014. 449 pp. ISBN 978-1-107-05713-5\n",
    "```"
   ]
  },
  {
   "cell_type": "code",
   "execution_count": null,
   "metadata": {},
   "outputs": [],
   "source": []
  }
 ],
 "metadata": {
  "anaconda-cloud": {},
  "kernelspec": {
   "display_name": "Python 3 (ipykernel)",
   "language": "python",
   "name": "python3"
  },
  "language_info": {
   "codemirror_mode": {
    "name": "ipython",
    "version": 3
   },
   "file_extension": ".py",
   "mimetype": "text/x-python",
   "name": "python",
   "nbconvert_exporter": "python",
   "pygments_lexer": "ipython3",
   "version": "3.12.7"
  }
 },
 "nbformat": 4,
 "nbformat_minor": 4
}
