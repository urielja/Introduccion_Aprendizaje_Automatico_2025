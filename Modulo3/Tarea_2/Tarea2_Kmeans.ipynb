{
 "cells": [
  {
   "cell_type": "markdown",
   "metadata": {},
   "source": [
    "\n",
    "<img style=\"float: left;;\" src='alinco.png' /></a>\n",
    "    \n",
    "\n",
    "# <center> <font color= #000047> Aprendizaje No Superviado: Kmeans Clustering Imagenes </font> </center>\n"
   ]
  },
  {
   "cell_type": "markdown",
   "metadata": {},
   "source": [
    "Elegir una imagen en blanco y negro de la carpeta `Imagenes` donde se puedan distinguir diferentes figuras para agrupar. Leer la imagen en una matriz de numpy. Definir y reescribir la matriz para tener pixeles en alto o en bajo. Encontrar las coordenadas en donde la matriz tiene pixeles negros. Aplicar el algoritmo de Kmeans sobre el arreglo de coordenadas usando el numero de agrupaciones necesarias de acuerdo a la imagen. Reconstruir la imagen identificando las figuras asociadas a cada grupo.\n",
    "\n",
    "<div class=\"alert alert-danger\" style=\"margin: 10px\"><strong>NOTA IMPORTANTE!</strong> En cada figura, tabla, o resultado que se incluya, se debe de incluir el código que se utilizó para obtenerlo.  <br> Todas las figuras (si las hubiera) deben de estar comentadas o descritas.</div>"
   ]
  },
  {
   "cell_type": "code",
   "execution_count": null,
   "metadata": {},
   "outputs": [],
   "source": []
  }
 ],
 "metadata": {
  "anaconda-cloud": {},
  "kernelspec": {
   "display_name": "Python 3 (ipykernel)",
   "language": "python",
   "name": "python3"
  },
  "language_info": {
   "codemirror_mode": {
    "name": "ipython",
    "version": 3
   },
   "file_extension": ".py",
   "mimetype": "text/x-python",
   "name": "python",
   "nbconvert_exporter": "python",
   "pygments_lexer": "ipython3",
   "version": "3.12.7"
  }
 },
 "nbformat": 4,
 "nbformat_minor": 4
}
