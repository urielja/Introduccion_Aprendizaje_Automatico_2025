{
 "cells": [
  {
   "cell_type": "markdown",
   "id": "537ee92d-c367-4929-a4e5-4811a62cdd72",
   "metadata": {},
   "source": [
    "<img style=\"float: left;;\" src='Figures/alinco.png' height=\"100\"/></a>\n",
    "\n",
    "# <center> <font color= #000047> Ejercicios Repaso</font> </center>\n",
    "\n"
   ]
  },
  {
   "cell_type": "markdown",
   "id": "2fa0fb58-c885-44ab-8ef5-47ecc49bc554",
   "metadata": {},
   "source": [
    "1.- Imprime los números del 1 al 10 usando un ciclo.\n",
    "\n",
    "2.- Calcula la suma de todos los números pares entre 1 y 100.\n",
    "\n",
    "3.- Pide al usuario un número y determina si es par o impar.\n",
    "\n",
    "4.- Crea una función que reciba una lista y devuelva la lista invertida.\n",
    "\n",
    "5.- Escribe un programa que calcule el factorial de un número dado por el usuario.\n",
    "\n",
    "6.- Crea una lista con los cuadrados de los números del 1 al 20.\n",
    "\n",
    "7.- Escribe una función que cuente cuántas veces aparece un elemento en una lista.\n",
    "\n",
    "8.- Pide al usuario una palabra y determina si es un palíndromo.\n",
    "\n",
    "9.- Escribe un programa que imprima la tabla de multiplicar de un número dado.\n",
    "\n",
    "10.- Crea un diccionario con nombres de personas y sus edades, luego imprime solo los nombres de las personas mayores de 18 años."
   ]
  },
  {
   "cell_type": "code",
   "execution_count": null,
   "id": "a1ee5c52-824d-4e8e-9e35-d8785a02b8b6",
   "metadata": {},
   "outputs": [],
   "source": [
    "# 1. Imprime los números del 1 al 10 usando un ciclo\n",
    "for i in range(1, 11):\n",
    "    print(i)"
   ]
  },
  {
   "cell_type": "code",
   "execution_count": null,
   "id": "436da072",
   "metadata": {},
   "outputs": [],
   "source": [
    "# 2. Calcula la suma de todos los números pares entre 1 y 100\n",
    "suma_pares = sum(i for i in range(2, 101, 2))\n",
    "print('Suma de pares entre 1 y 100:', suma_pares)"
   ]
  },
  {
   "cell_type": "code",
   "execution_count": null,
   "id": "40064d7f",
   "metadata": {},
   "outputs": [],
   "source": [
    "# 3. Pide al usuario un número y determina si es par o impar\n",
    "num = int(input('Introduce un número: '))\n",
    "if num % 2 == 0:\n",
    "    print('El número es par')\n",
    "else:\n",
    "    print('El número es impar')"
   ]
  },
  {
   "cell_type": "code",
   "execution_count": null,
   "id": "ea001a17",
   "metadata": {},
   "outputs": [],
   "source": [
    "# 4. Crea una función que reciba una lista y devuelva la lista invertida\n",
    "def invertir_lista(lista):\n",
    "    return lista[::-1]\n",
    "\n",
    "# Ejemplo de uso\n",
    "print(invertir_lista([1, 2, 3, 4, 5]))"
   ]
  },
  {
   "cell_type": "code",
   "execution_count": null,
   "id": "8f7925b4",
   "metadata": {},
   "outputs": [],
   "source": [
    "# 5. Calcula el factorial de un número dado por el usuario\n",
    "n = int(input('Introduce un número para calcular su factorial: '))\n",
    "factorial = 1\n",
    "for i in range(1, n+1):\n",
    "    factorial *= i\n",
    "print(f'El factorial de {n} es {factorial}')"
   ]
  },
  {
   "cell_type": "code",
   "execution_count": null,
   "id": "3d7e1c84",
   "metadata": {},
   "outputs": [],
   "source": [
    "# 6. Crea una lista con los cuadrados de los números del 1 al 20\n",
    "cuadrados = [i**2 for i in range(1, 21)]\n",
    "print(cuadrados)"
   ]
  },
  {
   "cell_type": "code",
   "execution_count": null,
   "id": "11550f38",
   "metadata": {},
   "outputs": [],
   "source": [
    "# 7. Función que cuenta cuántas veces aparece un elemento en una lista\n",
    "def contar_elemento(lista, elemento):\n",
    "    return lista.count(elemento)\n",
    "\n",
    "# Ejemplo de uso\n",
    "print(contar_elemento([1,2,3,2,4,2,5], 2))"
   ]
  },
  {
   "cell_type": "code",
   "execution_count": null,
   "id": "5d825bde",
   "metadata": {},
   "outputs": [],
   "source": [
    "# 8. Determina si una palabra es un palíndromo\n",
    "palabra = input('Introduce una palabra: ')\n",
    "if palabra == palabra[::-1]:\n",
    "    print('Es un palíndromo')\n",
    "else:\n",
    "    print('No es un palíndromo')"
   ]
  },
  {
   "cell_type": "code",
   "execution_count": null,
   "id": "cb59c4bd",
   "metadata": {},
   "outputs": [],
   "source": [
    "# 9. Imprime la tabla de multiplicar de un número dado\n",
    "num = int(input('Introduce un número para su tabla de multiplicar: '))\n",
    "for i in range(1, 11):\n",
    "    print(f'{num} x {i} = {num*i}')"
   ]
  },
  {
   "cell_type": "code",
   "execution_count": null,
   "id": "db78d0c5",
   "metadata": {},
   "outputs": [],
   "source": [
    "# 10. Diccionario con nombres y edades, imprime los mayores de 18 años\n",
    "personas = {'Ana': 20, 'Luis': 17, 'Pedro': 25, 'Marta': 15}\n",
    "for nombre, edad in personas.items():\n",
    "    if edad > 18:\n",
    "        print(nombre)"
   ]
  }
 ],
 "metadata": {
  "kernelspec": {
   "display_name": "Python 3 (ipykernel)",
   "language": "python",
   "name": "python3"
  },
  "language_info": {
   "codemirror_mode": {
    "name": "ipython",
    "version": 3
   },
   "file_extension": ".py",
   "mimetype": "text/x-python",
   "name": "python",
   "nbconvert_exporter": "python",
   "pygments_lexer": "ipython3",
   "version": "3.12.7"
  }
 },
 "nbformat": 4,
 "nbformat_minor": 5
}
